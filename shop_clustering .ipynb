{
 "cells": [
  {
   "cell_type": "markdown",
   "metadata": {},
   "source": [
    "# GPN Intelligence Cup 2020: Data Science"
   ]
  },
  {
   "cell_type": "markdown",
   "metadata": {},
   "source": [
    "## 1. Анализ исходных данных "
   ]
  },
  {
   "cell_type": "code",
   "execution_count": 235,
   "metadata": {},
   "outputs": [],
   "source": [
    "import pandas as pd\n",
    "import numpy as np"
   ]
  },
  {
   "cell_type": "markdown",
   "metadata": {},
   "source": [
    "### 1.1. Анализ данных по продажам"
   ]
  },
  {
   "cell_type": "code",
   "execution_count": 46,
   "metadata": {},
   "outputs": [],
   "source": [
    "sales = pd.read_parquet('sales.parquet')"
   ]
  },
  {
   "cell_type": "code",
   "execution_count": 119,
   "metadata": {},
   "outputs": [
    {
     "data": {
      "text/plain": [
       "(5081459, 6)"
      ]
     },
     "execution_count": 119,
     "metadata": {},
     "output_type": "execute_result"
    }
   ],
   "source": [
    "sales.shape"
   ]
  },
  {
   "cell_type": "code",
   "execution_count": 130,
   "metadata": {},
   "outputs": [
    {
     "data": {
      "text/html": [
       "<div>\n",
       "<style scoped>\n",
       "    .dataframe tbody tr th:only-of-type {\n",
       "        vertical-align: middle;\n",
       "    }\n",
       "\n",
       "    .dataframe tbody tr th {\n",
       "        vertical-align: top;\n",
       "    }\n",
       "\n",
       "    .dataframe thead th {\n",
       "        text-align: right;\n",
       "    }\n",
       "</style>\n",
       "<table border=\"1\" class=\"dataframe\">\n",
       "  <thead>\n",
       "    <tr style=\"text-align: right;\">\n",
       "      <th></th>\n",
       "      <th>date</th>\n",
       "      <th>shop_id</th>\n",
       "      <th>owner</th>\n",
       "      <th>number_of_counters</th>\n",
       "      <th>goods_type</th>\n",
       "      <th>total_items_sold</th>\n",
       "    </tr>\n",
       "  </thead>\n",
       "  <tbody>\n",
       "    <tr>\n",
       "      <th>0</th>\n",
       "      <td>2146-01-01</td>\n",
       "      <td>0</td>\n",
       "      <td>Рейдеры</td>\n",
       "      <td>4</td>\n",
       "      <td>Съедобный хлам</td>\n",
       "      <td>6.0</td>\n",
       "    </tr>\n",
       "    <tr>\n",
       "      <th>1</th>\n",
       "      <td>2146-01-01</td>\n",
       "      <td>0</td>\n",
       "      <td>Рейдеры</td>\n",
       "      <td>4</td>\n",
       "      <td>Хлам</td>\n",
       "      <td>26.0</td>\n",
       "    </tr>\n",
       "    <tr>\n",
       "      <th>2</th>\n",
       "      <td>2146-01-01</td>\n",
       "      <td>0</td>\n",
       "      <td>Рейдеры</td>\n",
       "      <td>4</td>\n",
       "      <td>Бензак</td>\n",
       "      <td>10537.0</td>\n",
       "    </tr>\n",
       "    <tr>\n",
       "      <th>3</th>\n",
       "      <td>2146-01-01</td>\n",
       "      <td>1</td>\n",
       "      <td>Рейдеры</td>\n",
       "      <td>5</td>\n",
       "      <td>Съедобный хлам</td>\n",
       "      <td>17.0</td>\n",
       "    </tr>\n",
       "    <tr>\n",
       "      <th>4</th>\n",
       "      <td>2146-01-01</td>\n",
       "      <td>1</td>\n",
       "      <td>Рейдеры</td>\n",
       "      <td>5</td>\n",
       "      <td>Хлам</td>\n",
       "      <td>9.0</td>\n",
       "    </tr>\n",
       "    <tr>\n",
       "      <th>5</th>\n",
       "      <td>2146-01-01</td>\n",
       "      <td>1</td>\n",
       "      <td>Рейдеры</td>\n",
       "      <td>5</td>\n",
       "      <td>Броня и одежда</td>\n",
       "      <td>2.0</td>\n",
       "    </tr>\n",
       "    <tr>\n",
       "      <th>6</th>\n",
       "      <td>2146-01-01</td>\n",
       "      <td>1</td>\n",
       "      <td>Рейдеры</td>\n",
       "      <td>5</td>\n",
       "      <td>Бензак</td>\n",
       "      <td>5510.0</td>\n",
       "    </tr>\n",
       "    <tr>\n",
       "      <th>7</th>\n",
       "      <td>2146-01-01</td>\n",
       "      <td>1</td>\n",
       "      <td>Рейдеры</td>\n",
       "      <td>5</td>\n",
       "      <td>Солярка</td>\n",
       "      <td>238.0</td>\n",
       "    </tr>\n",
       "    <tr>\n",
       "      <th>8</th>\n",
       "      <td>2146-01-01</td>\n",
       "      <td>2</td>\n",
       "      <td>Рейдеры</td>\n",
       "      <td>4</td>\n",
       "      <td>Ядер-Кола</td>\n",
       "      <td>37.0</td>\n",
       "    </tr>\n",
       "    <tr>\n",
       "      <th>9</th>\n",
       "      <td>2146-01-01</td>\n",
       "      <td>2</td>\n",
       "      <td>Рейдеры</td>\n",
       "      <td>4</td>\n",
       "      <td>Съедобный хлам</td>\n",
       "      <td>115.0</td>\n",
       "    </tr>\n",
       "    <tr>\n",
       "      <th>10</th>\n",
       "      <td>2146-01-01</td>\n",
       "      <td>2</td>\n",
       "      <td>Рейдеры</td>\n",
       "      <td>4</td>\n",
       "      <td>Патроны</td>\n",
       "      <td>671.0</td>\n",
       "    </tr>\n",
       "    <tr>\n",
       "      <th>11</th>\n",
       "      <td>2146-01-01</td>\n",
       "      <td>2</td>\n",
       "      <td>Рейдеры</td>\n",
       "      <td>4</td>\n",
       "      <td>Хлам</td>\n",
       "      <td>121.0</td>\n",
       "    </tr>\n",
       "    <tr>\n",
       "      <th>12</th>\n",
       "      <td>2146-01-01</td>\n",
       "      <td>2</td>\n",
       "      <td>Рейдеры</td>\n",
       "      <td>4</td>\n",
       "      <td>Модификации тачки</td>\n",
       "      <td>150.0</td>\n",
       "    </tr>\n",
       "    <tr>\n",
       "      <th>13</th>\n",
       "      <td>2146-01-01</td>\n",
       "      <td>2</td>\n",
       "      <td>Рейдеры</td>\n",
       "      <td>4</td>\n",
       "      <td>Оружие</td>\n",
       "      <td>17.0</td>\n",
       "    </tr>\n",
       "    <tr>\n",
       "      <th>14</th>\n",
       "      <td>2146-01-01</td>\n",
       "      <td>2</td>\n",
       "      <td>Рейдеры</td>\n",
       "      <td>4</td>\n",
       "      <td>Броня и одежда</td>\n",
       "      <td>16.0</td>\n",
       "    </tr>\n",
       "  </tbody>\n",
       "</table>\n",
       "</div>"
      ],
      "text/plain": [
       "         date  shop_id    owner  number_of_counters         goods_type  \\\n",
       "0  2146-01-01        0  Рейдеры                   4     Съедобный хлам   \n",
       "1  2146-01-01        0  Рейдеры                   4               Хлам   \n",
       "2  2146-01-01        0  Рейдеры                   4             Бензак   \n",
       "3  2146-01-01        1  Рейдеры                   5     Съедобный хлам   \n",
       "4  2146-01-01        1  Рейдеры                   5               Хлам   \n",
       "5  2146-01-01        1  Рейдеры                   5     Броня и одежда   \n",
       "6  2146-01-01        1  Рейдеры                   5             Бензак   \n",
       "7  2146-01-01        1  Рейдеры                   5            Солярка   \n",
       "8  2146-01-01        2  Рейдеры                   4          Ядер-Кола   \n",
       "9  2146-01-01        2  Рейдеры                   4     Съедобный хлам   \n",
       "10 2146-01-01        2  Рейдеры                   4            Патроны   \n",
       "11 2146-01-01        2  Рейдеры                   4               Хлам   \n",
       "12 2146-01-01        2  Рейдеры                   4  Модификации тачки   \n",
       "13 2146-01-01        2  Рейдеры                   4             Оружие   \n",
       "14 2146-01-01        2  Рейдеры                   4     Броня и одежда   \n",
       "\n",
       "    total_items_sold  \n",
       "0                6.0  \n",
       "1               26.0  \n",
       "2            10537.0  \n",
       "3               17.0  \n",
       "4                9.0  \n",
       "5                2.0  \n",
       "6             5510.0  \n",
       "7              238.0  \n",
       "8               37.0  \n",
       "9              115.0  \n",
       "10             671.0  \n",
       "11             121.0  \n",
       "12             150.0  \n",
       "13              17.0  \n",
       "14              16.0  "
      ]
     },
     "execution_count": 130,
     "metadata": {},
     "output_type": "execute_result"
    }
   ],
   "source": [
    "sales.head(15)"
   ]
  },
  {
   "cell_type": "code",
   "execution_count": 124,
   "metadata": {},
   "outputs": [
    {
     "data": {
      "text/plain": [
       "False"
      ]
     },
     "execution_count": 124,
     "metadata": {},
     "output_type": "execute_result"
    }
   ],
   "source": [
    "sales.isna().values.any() # Отлично, пропусков в данных по продажам нет"
   ]
  },
  {
   "cell_type": "code",
   "execution_count": 128,
   "metadata": {},
   "outputs": [
    {
     "data": {
      "text/plain": [
       "Рейдеры                       3906481\n",
       "Воины полураспада              595022\n",
       "Стервятники                    275076\n",
       "Последователи Апокалипсиса     169120\n",
       "Бомбисты                       135760\n",
       "Name: owner, dtype: int64"
      ]
     },
     "execution_count": 128,
     "metadata": {},
     "output_type": "execute_result"
    }
   ],
   "source": [
    "sales['owner'].value_counts()"
   ]
  },
  {
   "cell_type": "code",
   "execution_count": 129,
   "metadata": {},
   "outputs": [
    {
     "data": {
      "text/plain": [
       "6     2358414\n",
       "8     1151018\n",
       "4      815438\n",
       "10     389423\n",
       "5      106718\n",
       "9       81733\n",
       "12      77329\n",
       "7       65052\n",
       "11      12201\n",
       "14       6778\n",
       "13       5632\n",
       "3        3972\n",
       "1        2909\n",
       "16        919\n",
       "17        893\n",
       "15        855\n",
       "2         845\n",
       "18        517\n",
       "19        510\n",
       "20        200\n",
       "21         81\n",
       "22         15\n",
       "23          7\n",
       "Name: number_of_counters, dtype: int64"
      ]
     },
     "execution_count": 129,
     "metadata": {},
     "output_type": "execute_result"
    }
   ],
   "source": [
    "sales['number_of_counters'].value_counts()"
   ]
  },
  {
   "cell_type": "code",
   "execution_count": 131,
   "metadata": {},
   "outputs": [
    {
     "data": {
      "text/plain": [
       "Бензак                615722\n",
       "Солярка               585314\n",
       "Съедобный хлам        551292\n",
       "Хлам                  540485\n",
       "Патроны               505188\n",
       "Броня и одежда        493856\n",
       "Ядер-Кола             474912\n",
       "Медпрепараты и еда    413378\n",
       "Модификации тачки     353090\n",
       "Жидкости для тачки    320589\n",
       "Оружие                227633\n",
       "Name: goods_type, dtype: int64"
      ]
     },
     "execution_count": 131,
     "metadata": {},
     "output_type": "execute_result"
    }
   ],
   "source": [
    "sales['goods_type'].value_counts()"
   ]
  },
  {
   "cell_type": "code",
   "execution_count": 135,
   "metadata": {},
   "outputs": [
    {
     "data": {
      "text/plain": [
       "10"
      ]
     },
     "execution_count": 135,
     "metadata": {},
     "output_type": "execute_result"
    }
   ],
   "source": [
    "sales['total_items_sold'].value_counts()[-1] # проверить на отрицательные значения"
   ]
  },
  {
   "cell_type": "markdown",
   "metadata": {},
   "source": [
    "### 1.2. Анализ данных по характеристикам магазинов"
   ]
  },
  {
   "cell_type": "code",
   "execution_count": 136,
   "metadata": {},
   "outputs": [],
   "source": [
    "shops = pd.read_parquet('shops.parquet')"
   ]
  },
  {
   "cell_type": "code",
   "execution_count": 138,
   "metadata": {},
   "outputs": [
    {
     "data": {
      "text/plain": [
       "(845, 8)"
      ]
     },
     "execution_count": 138,
     "metadata": {},
     "output_type": "execute_result"
    }
   ],
   "source": [
    "shops.shape"
   ]
  },
  {
   "cell_type": "code",
   "execution_count": 139,
   "metadata": {},
   "outputs": [
    {
     "data": {
      "text/html": [
       "<div>\n",
       "<style scoped>\n",
       "    .dataframe tbody tr th:only-of-type {\n",
       "        vertical-align: middle;\n",
       "    }\n",
       "\n",
       "    .dataframe tbody tr th {\n",
       "        vertical-align: top;\n",
       "    }\n",
       "\n",
       "    .dataframe thead th {\n",
       "        text-align: right;\n",
       "    }\n",
       "</style>\n",
       "<table border=\"1\" class=\"dataframe\">\n",
       "  <thead>\n",
       "    <tr style=\"text-align: right;\">\n",
       "      <th></th>\n",
       "      <th>shop_id</th>\n",
       "      <th>neighborhood</th>\n",
       "      <th>city</th>\n",
       "      <th>year_opened</th>\n",
       "      <th>is_on_the_road</th>\n",
       "      <th>is_with_the_well</th>\n",
       "      <th>is_with_additional_services</th>\n",
       "      <th>shop_type</th>\n",
       "    </tr>\n",
       "  </thead>\n",
       "  <tbody>\n",
       "    <tr>\n",
       "      <th>0</th>\n",
       "      <td>705</td>\n",
       "      <td>В центре</td>\n",
       "      <td>Крепость Джита</td>\n",
       "      <td>2109</td>\n",
       "      <td>нет</td>\n",
       "      <td>да</td>\n",
       "      <td>да</td>\n",
       "      <td>1</td>\n",
       "    </tr>\n",
       "    <tr>\n",
       "      <th>1</th>\n",
       "      <td>601</td>\n",
       "      <td>В центре</td>\n",
       "      <td>Суховей</td>\n",
       "      <td>2137</td>\n",
       "      <td>нет</td>\n",
       "      <td>нет</td>\n",
       "      <td>нет</td>\n",
       "      <td>4</td>\n",
       "    </tr>\n",
       "    <tr>\n",
       "      <th>2</th>\n",
       "      <td>530</td>\n",
       "      <td>В центре</td>\n",
       "      <td>Храм Фритюра</td>\n",
       "      <td>2118</td>\n",
       "      <td>нет</td>\n",
       "      <td>нет</td>\n",
       "      <td>нет</td>\n",
       "      <td>None</td>\n",
       "    </tr>\n",
       "    <tr>\n",
       "      <th>3</th>\n",
       "      <td>91</td>\n",
       "      <td>В центре</td>\n",
       "      <td>Убежище Жестянщика</td>\n",
       "      <td>2135</td>\n",
       "      <td>нет</td>\n",
       "      <td>нет</td>\n",
       "      <td>да</td>\n",
       "      <td>1</td>\n",
       "    </tr>\n",
       "    <tr>\n",
       "      <th>4</th>\n",
       "      <td>100</td>\n",
       "      <td>На отшибе</td>\n",
       "      <td>Убежище Жестянщика</td>\n",
       "      <td>2135</td>\n",
       "      <td>да</td>\n",
       "      <td>нет</td>\n",
       "      <td>да</td>\n",
       "      <td>2</td>\n",
       "    </tr>\n",
       "  </tbody>\n",
       "</table>\n",
       "</div>"
      ],
      "text/plain": [
       "   shop_id neighborhood                city  year_opened is_on_the_road  \\\n",
       "0      705     В центре      Крепость Джита         2109            нет   \n",
       "1      601     В центре             Суховей         2137            нет   \n",
       "2      530     В центре        Храм Фритюра         2118            нет   \n",
       "3       91     В центре  Убежище Жестянщика         2135            нет   \n",
       "4      100    На отшибе  Убежище Жестянщика         2135             да   \n",
       "\n",
       "  is_with_the_well is_with_additional_services shop_type  \n",
       "0               да                          да         1  \n",
       "1              нет                         нет         4  \n",
       "2              нет                         нет      None  \n",
       "3              нет                          да         1  \n",
       "4              нет                          да         2  "
      ]
     },
     "execution_count": 139,
     "metadata": {},
     "output_type": "execute_result"
    }
   ],
   "source": [
    "shops.head(5) # замечен первый None "
   ]
  },
  {
   "cell_type": "code",
   "execution_count": 143,
   "metadata": {},
   "outputs": [
    {
     "data": {
      "text/plain": [
       "True"
      ]
     },
     "execution_count": 143,
     "metadata": {},
     "output_type": "execute_result"
    }
   ],
   "source": [
    "shops.isna().values.any() # подтверждение присутствия пропусков в данных "
   ]
  },
  {
   "cell_type": "code",
   "execution_count": 147,
   "metadata": {},
   "outputs": [
    {
     "data": {
      "text/plain": [
       " 2139    94\n",
       "-1       63\n",
       "Name: year_opened, dtype: int64"
      ]
     },
     "execution_count": 147,
     "metadata": {},
     "output_type": "execute_result"
    }
   ],
   "source": [
    "shops['year_opened'].value_counts()[:2] # описать, как мы интерпретируем значения "
   ]
  },
  {
   "cell_type": "code",
   "execution_count": 184,
   "metadata": {},
   "outputs": [
    {
     "data": {
      "text/plain": [
       "1    385\n",
       "2    150\n",
       "3    115\n",
       "4     63\n",
       "Name: shop_type, dtype: int64"
      ]
     },
     "execution_count": 184,
     "metadata": {},
     "output_type": "execute_result"
    }
   ],
   "source": [
    "shops['shop_type'].value_counts()"
   ]
  },
  {
   "cell_type": "code",
   "execution_count": 156,
   "metadata": {
    "scrolled": true
   },
   "outputs": [
    {
     "data": {
      "text/plain": [
       "В центре     309\n",
       "У тоннеля    169\n",
       "На отшибе    115\n",
       "У ночлега     81\n",
       "У воды        77\n",
       "Промзона      62\n",
       "С краю        32\n",
       "Name: neighborhood, dtype: int64"
      ]
     },
     "execution_count": 156,
     "metadata": {},
     "output_type": "execute_result"
    }
   ],
   "source": [
    "shops['neighborhood'].value_counts()"
   ]
  },
  {
   "cell_type": "markdown",
   "metadata": {},
   "source": [
    "### 1.3. Анализ данных о разбивке городов по локациям"
   ]
  },
  {
   "cell_type": "code",
   "execution_count": 151,
   "metadata": {},
   "outputs": [],
   "source": [
    "cities = pd.read_parquet('cities.parquet')"
   ]
  },
  {
   "cell_type": "code",
   "execution_count": 153,
   "metadata": {},
   "outputs": [
    {
     "data": {
      "text/plain": [
       "(15, 2)"
      ]
     },
     "execution_count": 153,
     "metadata": {},
     "output_type": "execute_result"
    }
   ],
   "source": [
    "cities.shape"
   ]
  },
  {
   "cell_type": "code",
   "execution_count": 152,
   "metadata": {},
   "outputs": [
    {
     "data": {
      "text/html": [
       "<div>\n",
       "<style scoped>\n",
       "    .dataframe tbody tr th:only-of-type {\n",
       "        vertical-align: middle;\n",
       "    }\n",
       "\n",
       "    .dataframe tbody tr th {\n",
       "        vertical-align: top;\n",
       "    }\n",
       "\n",
       "    .dataframe thead th {\n",
       "        text-align: right;\n",
       "    }\n",
       "</style>\n",
       "<table border=\"1\" class=\"dataframe\">\n",
       "  <thead>\n",
       "    <tr style=\"text-align: right;\">\n",
       "      <th></th>\n",
       "      <th>city</th>\n",
       "      <th>location</th>\n",
       "    </tr>\n",
       "  </thead>\n",
       "  <tbody>\n",
       "    <tr>\n",
       "      <th>0</th>\n",
       "      <td>Крепость Джита</td>\n",
       "      <td>Скалистый Могильник</td>\n",
       "    </tr>\n",
       "    <tr>\n",
       "      <th>1</th>\n",
       "      <td>Суховей</td>\n",
       "      <td>Скалистый Могильник</td>\n",
       "    </tr>\n",
       "    <tr>\n",
       "      <th>2</th>\n",
       "      <td>Храм Фритюра</td>\n",
       "      <td>Скалистый Могильник</td>\n",
       "    </tr>\n",
       "    <tr>\n",
       "      <th>3</th>\n",
       "      <td>Убежище Жестянщика</td>\n",
       "      <td>Свистящие Степи</td>\n",
       "    </tr>\n",
       "    <tr>\n",
       "      <th>4</th>\n",
       "      <td>Газтаун</td>\n",
       "      <td>Радиоактивная Пустошь</td>\n",
       "    </tr>\n",
       "    <tr>\n",
       "      <th>5</th>\n",
       "      <td>Пасть</td>\n",
       "      <td>Свистящие Степи</td>\n",
       "    </tr>\n",
       "    <tr>\n",
       "      <th>6</th>\n",
       "      <td>Аэропорт</td>\n",
       "      <td>Скалистый Могильник</td>\n",
       "    </tr>\n",
       "    <tr>\n",
       "      <th>7</th>\n",
       "      <td>Равнина Маяка</td>\n",
       "      <td>Радиоактивная Пустошь</td>\n",
       "    </tr>\n",
       "    <tr>\n",
       "      <th>8</th>\n",
       "      <td>Дизельные Жилы</td>\n",
       "      <td>Свистящие Степи</td>\n",
       "    </tr>\n",
       "    <tr>\n",
       "      <th>9</th>\n",
       "      <td>Темница</td>\n",
       "      <td>Радиоактивная Пустошь</td>\n",
       "    </tr>\n",
       "    <tr>\n",
       "      <th>10</th>\n",
       "      <td>Буровая Скважина</td>\n",
       "      <td>Свистящие Степи</td>\n",
       "    </tr>\n",
       "    <tr>\n",
       "      <th>11</th>\n",
       "      <td>Лагерь</td>\n",
       "      <td>Радиоактивная Пустошь</td>\n",
       "    </tr>\n",
       "    <tr>\n",
       "      <th>12</th>\n",
       "      <td>Свинцовая Ферма</td>\n",
       "      <td>Радиоактивная Пустошь</td>\n",
       "    </tr>\n",
       "    <tr>\n",
       "      <th>13</th>\n",
       "      <td>Нефтеперегонный Завод</td>\n",
       "      <td>Свистящие Степи</td>\n",
       "    </tr>\n",
       "    <tr>\n",
       "      <th>14</th>\n",
       "      <td>Цитадель</td>\n",
       "      <td>Радиоактивная Пустошь</td>\n",
       "    </tr>\n",
       "  </tbody>\n",
       "</table>\n",
       "</div>"
      ],
      "text/plain": [
       "                     city               location\n",
       "0          Крепость Джита    Скалистый Могильник\n",
       "1                 Суховей    Скалистый Могильник\n",
       "2            Храм Фритюра    Скалистый Могильник\n",
       "3      Убежище Жестянщика        Свистящие Степи\n",
       "4                 Газтаун  Радиоактивная Пустошь\n",
       "5                   Пасть        Свистящие Степи\n",
       "6                Аэропорт    Скалистый Могильник\n",
       "7           Равнина Маяка  Радиоактивная Пустошь\n",
       "8          Дизельные Жилы        Свистящие Степи\n",
       "9                 Темница  Радиоактивная Пустошь\n",
       "10       Буровая Скважина        Свистящие Степи\n",
       "11                 Лагерь  Радиоактивная Пустошь\n",
       "12        Свинцовая Ферма  Радиоактивная Пустошь\n",
       "13  Нефтеперегонный Завод        Свистящие Степи\n",
       "14               Цитадель  Радиоактивная Пустошь"
      ]
     },
     "execution_count": 152,
     "metadata": {},
     "output_type": "execute_result"
    }
   ],
   "source": [
    "cities"
   ]
  },
  {
   "cell_type": "markdown",
   "metadata": {},
   "source": [
    "## 2. Выбор информативных признаков  "
   ]
  },
  {
   "cell_type": "code",
   "execution_count": null,
   "metadata": {},
   "outputs": [],
   "source": [
    "делаю таблицу id - good_type"
   ]
  },
  {
   "cell_type": "code",
   "execution_count": 203,
   "metadata": {},
   "outputs": [],
   "source": [
    "sample = sales.groupby(['shop_id','goods_type'], as_index=False).aggregate({'total_items_sold' : 'sum'})"
   ]
  },
  {
   "cell_type": "code",
   "execution_count": 199,
   "metadata": {},
   "outputs": [],
   "source": [
    "test = sales.groupby(['shop_id','goods_type'], as_index=False).aggregate({'total_items_sold' : 'sum'})"
   ]
  },
  {
   "cell_type": "code",
   "execution_count": 200,
   "metadata": {},
   "outputs": [
    {
     "data": {
      "text/html": [
       "<div>\n",
       "<style scoped>\n",
       "    .dataframe tbody tr th:only-of-type {\n",
       "        vertical-align: middle;\n",
       "    }\n",
       "\n",
       "    .dataframe tbody tr th {\n",
       "        vertical-align: top;\n",
       "    }\n",
       "\n",
       "    .dataframe thead th {\n",
       "        text-align: right;\n",
       "    }\n",
       "</style>\n",
       "<table border=\"1\" class=\"dataframe\">\n",
       "  <thead>\n",
       "    <tr style=\"text-align: right;\">\n",
       "      <th></th>\n",
       "      <th>shop_id</th>\n",
       "      <th>goods_type</th>\n",
       "      <th>total_items_sold</th>\n",
       "    </tr>\n",
       "  </thead>\n",
       "  <tbody>\n",
       "    <tr>\n",
       "      <th>0</th>\n",
       "      <td>0</td>\n",
       "      <td>Бензак</td>\n",
       "      <td>11647666.0</td>\n",
       "    </tr>\n",
       "    <tr>\n",
       "      <th>1</th>\n",
       "      <td>0</td>\n",
       "      <td>Броня и одежда</td>\n",
       "      <td>81.0</td>\n",
       "    </tr>\n",
       "    <tr>\n",
       "      <th>2</th>\n",
       "      <td>0</td>\n",
       "      <td>Жидкости для тачки</td>\n",
       "      <td>35.0</td>\n",
       "    </tr>\n",
       "    <tr>\n",
       "      <th>3</th>\n",
       "      <td>0</td>\n",
       "      <td>Съедобный хлам</td>\n",
       "      <td>1077.0</td>\n",
       "    </tr>\n",
       "    <tr>\n",
       "      <th>4</th>\n",
       "      <td>0</td>\n",
       "      <td>Хлам</td>\n",
       "      <td>1351.0</td>\n",
       "    </tr>\n",
       "    <tr>\n",
       "      <th>...</th>\n",
       "      <td>...</td>\n",
       "      <td>...</td>\n",
       "      <td>...</td>\n",
       "    </tr>\n",
       "    <tr>\n",
       "      <th>8269</th>\n",
       "      <td>844</td>\n",
       "      <td>Патроны</td>\n",
       "      <td>483466.0</td>\n",
       "    </tr>\n",
       "    <tr>\n",
       "      <th>8270</th>\n",
       "      <td>844</td>\n",
       "      <td>Солярка</td>\n",
       "      <td>5589807.0</td>\n",
       "    </tr>\n",
       "    <tr>\n",
       "      <th>8271</th>\n",
       "      <td>844</td>\n",
       "      <td>Съедобный хлам</td>\n",
       "      <td>274576.0</td>\n",
       "    </tr>\n",
       "    <tr>\n",
       "      <th>8272</th>\n",
       "      <td>844</td>\n",
       "      <td>Хлам</td>\n",
       "      <td>131561.0</td>\n",
       "    </tr>\n",
       "    <tr>\n",
       "      <th>8273</th>\n",
       "      <td>844</td>\n",
       "      <td>Ядер-Кола</td>\n",
       "      <td>232613.0</td>\n",
       "    </tr>\n",
       "  </tbody>\n",
       "</table>\n",
       "<p>8274 rows × 3 columns</p>\n",
       "</div>"
      ],
      "text/plain": [
       "      shop_id          goods_type  total_items_sold\n",
       "0           0              Бензак        11647666.0\n",
       "1           0      Броня и одежда              81.0\n",
       "2           0  Жидкости для тачки              35.0\n",
       "3           0      Съедобный хлам            1077.0\n",
       "4           0                Хлам            1351.0\n",
       "...       ...                 ...               ...\n",
       "8269      844             Патроны          483466.0\n",
       "8270      844             Солярка         5589807.0\n",
       "8271      844      Съедобный хлам          274576.0\n",
       "8272      844                Хлам          131561.0\n",
       "8273      844           Ядер-Кола          232613.0\n",
       "\n",
       "[8274 rows x 3 columns]"
      ]
     },
     "execution_count": 200,
     "metadata": {},
     "output_type": "execute_result"
    }
   ],
   "source": [
    "test"
   ]
  },
  {
   "cell_type": "code",
   "execution_count": 216,
   "metadata": {},
   "outputs": [],
   "source": [
    "goods = set(test['goods_type'])"
   ]
  },
  {
   "cell_type": "code",
   "execution_count": 226,
   "metadata": {},
   "outputs": [],
   "source": [
    "df1 = sales.groupby(['shop_id'], as_index=False).aggregate({'total_items_sold' : 'sum'})['shop_id']"
   ]
  },
  {
   "cell_type": "code",
   "execution_count": 227,
   "metadata": {},
   "outputs": [],
   "source": [
    "for type in goods:\n",
    "    df2 = sales[sales['goods_type'] == type].groupby('shop_id').aggregate({'total_items_sold' : 'sum'})\n",
    "    df2 = df2.rename(columns={'total_items_sold': type})\n",
    "    df1 = pd.merge(left=df1, right=df2, left_on='shop_id', right_on='shop_id',  how='outer')"
   ]
  },
  {
   "cell_type": "code",
   "execution_count": 228,
   "metadata": {},
   "outputs": [
    {
     "data": {
      "text/html": [
       "<div>\n",
       "<style scoped>\n",
       "    .dataframe tbody tr th:only-of-type {\n",
       "        vertical-align: middle;\n",
       "    }\n",
       "\n",
       "    .dataframe tbody tr th {\n",
       "        vertical-align: top;\n",
       "    }\n",
       "\n",
       "    .dataframe thead th {\n",
       "        text-align: right;\n",
       "    }\n",
       "</style>\n",
       "<table border=\"1\" class=\"dataframe\">\n",
       "  <thead>\n",
       "    <tr style=\"text-align: right;\">\n",
       "      <th></th>\n",
       "      <th>shop_id</th>\n",
       "      <th>Броня и одежда</th>\n",
       "      <th>Модификации тачки</th>\n",
       "      <th>Медпрепараты и еда</th>\n",
       "      <th>Патроны</th>\n",
       "      <th>Солярка</th>\n",
       "      <th>Жидкости для тачки</th>\n",
       "      <th>Бензак</th>\n",
       "      <th>Съедобный хлам</th>\n",
       "      <th>Хлам</th>\n",
       "      <th>Ядер-Кола</th>\n",
       "      <th>Оружие</th>\n",
       "    </tr>\n",
       "  </thead>\n",
       "  <tbody>\n",
       "    <tr>\n",
       "      <th>0</th>\n",
       "      <td>0</td>\n",
       "      <td>81.0</td>\n",
       "      <td>NaN</td>\n",
       "      <td>NaN</td>\n",
       "      <td>NaN</td>\n",
       "      <td>NaN</td>\n",
       "      <td>35.0</td>\n",
       "      <td>11647666.0</td>\n",
       "      <td>1077.0</td>\n",
       "      <td>1351.0</td>\n",
       "      <td>NaN</td>\n",
       "      <td>NaN</td>\n",
       "    </tr>\n",
       "    <tr>\n",
       "      <th>1</th>\n",
       "      <td>1</td>\n",
       "      <td>1236.0</td>\n",
       "      <td>NaN</td>\n",
       "      <td>NaN</td>\n",
       "      <td>NaN</td>\n",
       "      <td>1548661.0</td>\n",
       "      <td>298.0</td>\n",
       "      <td>9079168.0</td>\n",
       "      <td>20340.0</td>\n",
       "      <td>5321.0</td>\n",
       "      <td>NaN</td>\n",
       "      <td>NaN</td>\n",
       "    </tr>\n",
       "    <tr>\n",
       "      <th>2</th>\n",
       "      <td>2</td>\n",
       "      <td>21571.0</td>\n",
       "      <td>5527.0</td>\n",
       "      <td>3109.0</td>\n",
       "      <td>636472.0</td>\n",
       "      <td>1378414.0</td>\n",
       "      <td>3550.0</td>\n",
       "      <td>7953184.0</td>\n",
       "      <td>115414.0</td>\n",
       "      <td>39997.0</td>\n",
       "      <td>47141.0</td>\n",
       "      <td>2526.0</td>\n",
       "    </tr>\n",
       "    <tr>\n",
       "      <th>3</th>\n",
       "      <td>3</td>\n",
       "      <td>754.0</td>\n",
       "      <td>61.0</td>\n",
       "      <td>NaN</td>\n",
       "      <td>NaN</td>\n",
       "      <td>2399400.0</td>\n",
       "      <td>13286.0</td>\n",
       "      <td>23048831.0</td>\n",
       "      <td>32051.0</td>\n",
       "      <td>17724.0</td>\n",
       "      <td>5.0</td>\n",
       "      <td>30.0</td>\n",
       "    </tr>\n",
       "    <tr>\n",
       "      <th>4</th>\n",
       "      <td>4</td>\n",
       "      <td>13826.0</td>\n",
       "      <td>16925.0</td>\n",
       "      <td>37541.0</td>\n",
       "      <td>797282.0</td>\n",
       "      <td>3258548.0</td>\n",
       "      <td>15438.0</td>\n",
       "      <td>23389524.0</td>\n",
       "      <td>289664.0</td>\n",
       "      <td>79956.0</td>\n",
       "      <td>161995.0</td>\n",
       "      <td>844.0</td>\n",
       "    </tr>\n",
       "    <tr>\n",
       "      <th>...</th>\n",
       "      <td>...</td>\n",
       "      <td>...</td>\n",
       "      <td>...</td>\n",
       "      <td>...</td>\n",
       "      <td>...</td>\n",
       "      <td>...</td>\n",
       "      <td>...</td>\n",
       "      <td>...</td>\n",
       "      <td>...</td>\n",
       "      <td>...</td>\n",
       "      <td>...</td>\n",
       "      <td>...</td>\n",
       "    </tr>\n",
       "    <tr>\n",
       "      <th>840</th>\n",
       "      <td>840</td>\n",
       "      <td>48415.0</td>\n",
       "      <td>26988.0</td>\n",
       "      <td>96224.0</td>\n",
       "      <td>405407.0</td>\n",
       "      <td>3563307.0</td>\n",
       "      <td>15534.0</td>\n",
       "      <td>17566124.0</td>\n",
       "      <td>245789.0</td>\n",
       "      <td>112601.0</td>\n",
       "      <td>163479.0</td>\n",
       "      <td>11152.0</td>\n",
       "    </tr>\n",
       "    <tr>\n",
       "      <th>841</th>\n",
       "      <td>841</td>\n",
       "      <td>31991.0</td>\n",
       "      <td>17683.0</td>\n",
       "      <td>78876.0</td>\n",
       "      <td>551027.0</td>\n",
       "      <td>3484279.0</td>\n",
       "      <td>19501.0</td>\n",
       "      <td>19530586.0</td>\n",
       "      <td>269893.0</td>\n",
       "      <td>95302.0</td>\n",
       "      <td>150300.0</td>\n",
       "      <td>13614.0</td>\n",
       "    </tr>\n",
       "    <tr>\n",
       "      <th>842</th>\n",
       "      <td>842</td>\n",
       "      <td>45371.0</td>\n",
       "      <td>34233.0</td>\n",
       "      <td>193496.0</td>\n",
       "      <td>661920.0</td>\n",
       "      <td>4775790.0</td>\n",
       "      <td>38839.0</td>\n",
       "      <td>21984118.0</td>\n",
       "      <td>491745.0</td>\n",
       "      <td>114614.0</td>\n",
       "      <td>383469.0</td>\n",
       "      <td>26467.0</td>\n",
       "    </tr>\n",
       "    <tr>\n",
       "      <th>843</th>\n",
       "      <td>843</td>\n",
       "      <td>51099.0</td>\n",
       "      <td>17824.0</td>\n",
       "      <td>105411.0</td>\n",
       "      <td>855965.0</td>\n",
       "      <td>3479157.0</td>\n",
       "      <td>16586.0</td>\n",
       "      <td>24264734.0</td>\n",
       "      <td>335289.0</td>\n",
       "      <td>107085.0</td>\n",
       "      <td>192845.0</td>\n",
       "      <td>19941.0</td>\n",
       "    </tr>\n",
       "    <tr>\n",
       "      <th>844</th>\n",
       "      <td>844</td>\n",
       "      <td>42892.0</td>\n",
       "      <td>27685.0</td>\n",
       "      <td>96017.0</td>\n",
       "      <td>483466.0</td>\n",
       "      <td>5589807.0</td>\n",
       "      <td>23293.0</td>\n",
       "      <td>30211697.0</td>\n",
       "      <td>274576.0</td>\n",
       "      <td>131561.0</td>\n",
       "      <td>232613.0</td>\n",
       "      <td>18243.0</td>\n",
       "    </tr>\n",
       "  </tbody>\n",
       "</table>\n",
       "<p>845 rows × 12 columns</p>\n",
       "</div>"
      ],
      "text/plain": [
       "     shop_id  Броня и одежда  Модификации тачки  Медпрепараты и еда   Патроны  \\\n",
       "0          0            81.0                NaN                 NaN       NaN   \n",
       "1          1          1236.0                NaN                 NaN       NaN   \n",
       "2          2         21571.0             5527.0              3109.0  636472.0   \n",
       "3          3           754.0               61.0                 NaN       NaN   \n",
       "4          4         13826.0            16925.0             37541.0  797282.0   \n",
       "..       ...             ...                ...                 ...       ...   \n",
       "840      840         48415.0            26988.0             96224.0  405407.0   \n",
       "841      841         31991.0            17683.0             78876.0  551027.0   \n",
       "842      842         45371.0            34233.0            193496.0  661920.0   \n",
       "843      843         51099.0            17824.0            105411.0  855965.0   \n",
       "844      844         42892.0            27685.0             96017.0  483466.0   \n",
       "\n",
       "       Солярка  Жидкости для тачки      Бензак  Съедобный хлам      Хлам  \\\n",
       "0          NaN                35.0  11647666.0          1077.0    1351.0   \n",
       "1    1548661.0               298.0   9079168.0         20340.0    5321.0   \n",
       "2    1378414.0              3550.0   7953184.0        115414.0   39997.0   \n",
       "3    2399400.0             13286.0  23048831.0         32051.0   17724.0   \n",
       "4    3258548.0             15438.0  23389524.0        289664.0   79956.0   \n",
       "..         ...                 ...         ...             ...       ...   \n",
       "840  3563307.0             15534.0  17566124.0        245789.0  112601.0   \n",
       "841  3484279.0             19501.0  19530586.0        269893.0   95302.0   \n",
       "842  4775790.0             38839.0  21984118.0        491745.0  114614.0   \n",
       "843  3479157.0             16586.0  24264734.0        335289.0  107085.0   \n",
       "844  5589807.0             23293.0  30211697.0        274576.0  131561.0   \n",
       "\n",
       "     Ядер-Кола   Оружие  \n",
       "0          NaN      NaN  \n",
       "1          NaN      NaN  \n",
       "2      47141.0   2526.0  \n",
       "3          5.0     30.0  \n",
       "4     161995.0    844.0  \n",
       "..         ...      ...  \n",
       "840   163479.0  11152.0  \n",
       "841   150300.0  13614.0  \n",
       "842   383469.0  26467.0  \n",
       "843   192845.0  19941.0  \n",
       "844   232613.0  18243.0  \n",
       "\n",
       "[845 rows x 12 columns]"
      ]
     },
     "execution_count": 228,
     "metadata": {},
     "output_type": "execute_result"
    }
   ],
   "source": [
    "df1"
   ]
  },
  {
   "cell_type": "code",
   "execution_count": 229,
   "metadata": {},
   "outputs": [],
   "source": [
    "df = df1.fillna(0)"
   ]
  },
  {
   "cell_type": "code",
   "execution_count": 230,
   "metadata": {},
   "outputs": [
    {
     "data": {
      "text/html": [
       "<div>\n",
       "<style scoped>\n",
       "    .dataframe tbody tr th:only-of-type {\n",
       "        vertical-align: middle;\n",
       "    }\n",
       "\n",
       "    .dataframe tbody tr th {\n",
       "        vertical-align: top;\n",
       "    }\n",
       "\n",
       "    .dataframe thead th {\n",
       "        text-align: right;\n",
       "    }\n",
       "</style>\n",
       "<table border=\"1\" class=\"dataframe\">\n",
       "  <thead>\n",
       "    <tr style=\"text-align: right;\">\n",
       "      <th></th>\n",
       "      <th>shop_id</th>\n",
       "      <th>Броня и одежда</th>\n",
       "      <th>Модификации тачки</th>\n",
       "      <th>Медпрепараты и еда</th>\n",
       "      <th>Патроны</th>\n",
       "      <th>Солярка</th>\n",
       "      <th>Жидкости для тачки</th>\n",
       "      <th>Бензак</th>\n",
       "      <th>Съедобный хлам</th>\n",
       "      <th>Хлам</th>\n",
       "      <th>Ядер-Кола</th>\n",
       "      <th>Оружие</th>\n",
       "    </tr>\n",
       "  </thead>\n",
       "  <tbody>\n",
       "    <tr>\n",
       "      <th>0</th>\n",
       "      <td>0</td>\n",
       "      <td>81.0</td>\n",
       "      <td>0.0</td>\n",
       "      <td>0.0</td>\n",
       "      <td>0.0</td>\n",
       "      <td>0.0</td>\n",
       "      <td>35.0</td>\n",
       "      <td>11647666.0</td>\n",
       "      <td>1077.0</td>\n",
       "      <td>1351.0</td>\n",
       "      <td>0.0</td>\n",
       "      <td>0.0</td>\n",
       "    </tr>\n",
       "    <tr>\n",
       "      <th>1</th>\n",
       "      <td>1</td>\n",
       "      <td>1236.0</td>\n",
       "      <td>0.0</td>\n",
       "      <td>0.0</td>\n",
       "      <td>0.0</td>\n",
       "      <td>1548661.0</td>\n",
       "      <td>298.0</td>\n",
       "      <td>9079168.0</td>\n",
       "      <td>20340.0</td>\n",
       "      <td>5321.0</td>\n",
       "      <td>0.0</td>\n",
       "      <td>0.0</td>\n",
       "    </tr>\n",
       "    <tr>\n",
       "      <th>2</th>\n",
       "      <td>2</td>\n",
       "      <td>21571.0</td>\n",
       "      <td>5527.0</td>\n",
       "      <td>3109.0</td>\n",
       "      <td>636472.0</td>\n",
       "      <td>1378414.0</td>\n",
       "      <td>3550.0</td>\n",
       "      <td>7953184.0</td>\n",
       "      <td>115414.0</td>\n",
       "      <td>39997.0</td>\n",
       "      <td>47141.0</td>\n",
       "      <td>2526.0</td>\n",
       "    </tr>\n",
       "    <tr>\n",
       "      <th>3</th>\n",
       "      <td>3</td>\n",
       "      <td>754.0</td>\n",
       "      <td>61.0</td>\n",
       "      <td>0.0</td>\n",
       "      <td>0.0</td>\n",
       "      <td>2399400.0</td>\n",
       "      <td>13286.0</td>\n",
       "      <td>23048831.0</td>\n",
       "      <td>32051.0</td>\n",
       "      <td>17724.0</td>\n",
       "      <td>5.0</td>\n",
       "      <td>30.0</td>\n",
       "    </tr>\n",
       "    <tr>\n",
       "      <th>4</th>\n",
       "      <td>4</td>\n",
       "      <td>13826.0</td>\n",
       "      <td>16925.0</td>\n",
       "      <td>37541.0</td>\n",
       "      <td>797282.0</td>\n",
       "      <td>3258548.0</td>\n",
       "      <td>15438.0</td>\n",
       "      <td>23389524.0</td>\n",
       "      <td>289664.0</td>\n",
       "      <td>79956.0</td>\n",
       "      <td>161995.0</td>\n",
       "      <td>844.0</td>\n",
       "    </tr>\n",
       "    <tr>\n",
       "      <th>...</th>\n",
       "      <td>...</td>\n",
       "      <td>...</td>\n",
       "      <td>...</td>\n",
       "      <td>...</td>\n",
       "      <td>...</td>\n",
       "      <td>...</td>\n",
       "      <td>...</td>\n",
       "      <td>...</td>\n",
       "      <td>...</td>\n",
       "      <td>...</td>\n",
       "      <td>...</td>\n",
       "      <td>...</td>\n",
       "    </tr>\n",
       "    <tr>\n",
       "      <th>840</th>\n",
       "      <td>840</td>\n",
       "      <td>48415.0</td>\n",
       "      <td>26988.0</td>\n",
       "      <td>96224.0</td>\n",
       "      <td>405407.0</td>\n",
       "      <td>3563307.0</td>\n",
       "      <td>15534.0</td>\n",
       "      <td>17566124.0</td>\n",
       "      <td>245789.0</td>\n",
       "      <td>112601.0</td>\n",
       "      <td>163479.0</td>\n",
       "      <td>11152.0</td>\n",
       "    </tr>\n",
       "    <tr>\n",
       "      <th>841</th>\n",
       "      <td>841</td>\n",
       "      <td>31991.0</td>\n",
       "      <td>17683.0</td>\n",
       "      <td>78876.0</td>\n",
       "      <td>551027.0</td>\n",
       "      <td>3484279.0</td>\n",
       "      <td>19501.0</td>\n",
       "      <td>19530586.0</td>\n",
       "      <td>269893.0</td>\n",
       "      <td>95302.0</td>\n",
       "      <td>150300.0</td>\n",
       "      <td>13614.0</td>\n",
       "    </tr>\n",
       "    <tr>\n",
       "      <th>842</th>\n",
       "      <td>842</td>\n",
       "      <td>45371.0</td>\n",
       "      <td>34233.0</td>\n",
       "      <td>193496.0</td>\n",
       "      <td>661920.0</td>\n",
       "      <td>4775790.0</td>\n",
       "      <td>38839.0</td>\n",
       "      <td>21984118.0</td>\n",
       "      <td>491745.0</td>\n",
       "      <td>114614.0</td>\n",
       "      <td>383469.0</td>\n",
       "      <td>26467.0</td>\n",
       "    </tr>\n",
       "    <tr>\n",
       "      <th>843</th>\n",
       "      <td>843</td>\n",
       "      <td>51099.0</td>\n",
       "      <td>17824.0</td>\n",
       "      <td>105411.0</td>\n",
       "      <td>855965.0</td>\n",
       "      <td>3479157.0</td>\n",
       "      <td>16586.0</td>\n",
       "      <td>24264734.0</td>\n",
       "      <td>335289.0</td>\n",
       "      <td>107085.0</td>\n",
       "      <td>192845.0</td>\n",
       "      <td>19941.0</td>\n",
       "    </tr>\n",
       "    <tr>\n",
       "      <th>844</th>\n",
       "      <td>844</td>\n",
       "      <td>42892.0</td>\n",
       "      <td>27685.0</td>\n",
       "      <td>96017.0</td>\n",
       "      <td>483466.0</td>\n",
       "      <td>5589807.0</td>\n",
       "      <td>23293.0</td>\n",
       "      <td>30211697.0</td>\n",
       "      <td>274576.0</td>\n",
       "      <td>131561.0</td>\n",
       "      <td>232613.0</td>\n",
       "      <td>18243.0</td>\n",
       "    </tr>\n",
       "  </tbody>\n",
       "</table>\n",
       "<p>845 rows × 12 columns</p>\n",
       "</div>"
      ],
      "text/plain": [
       "     shop_id  Броня и одежда  Модификации тачки  Медпрепараты и еда   Патроны  \\\n",
       "0          0            81.0                0.0                 0.0       0.0   \n",
       "1          1          1236.0                0.0                 0.0       0.0   \n",
       "2          2         21571.0             5527.0              3109.0  636472.0   \n",
       "3          3           754.0               61.0                 0.0       0.0   \n",
       "4          4         13826.0            16925.0             37541.0  797282.0   \n",
       "..       ...             ...                ...                 ...       ...   \n",
       "840      840         48415.0            26988.0             96224.0  405407.0   \n",
       "841      841         31991.0            17683.0             78876.0  551027.0   \n",
       "842      842         45371.0            34233.0            193496.0  661920.0   \n",
       "843      843         51099.0            17824.0            105411.0  855965.0   \n",
       "844      844         42892.0            27685.0             96017.0  483466.0   \n",
       "\n",
       "       Солярка  Жидкости для тачки      Бензак  Съедобный хлам      Хлам  \\\n",
       "0          0.0                35.0  11647666.0          1077.0    1351.0   \n",
       "1    1548661.0               298.0   9079168.0         20340.0    5321.0   \n",
       "2    1378414.0              3550.0   7953184.0        115414.0   39997.0   \n",
       "3    2399400.0             13286.0  23048831.0         32051.0   17724.0   \n",
       "4    3258548.0             15438.0  23389524.0        289664.0   79956.0   \n",
       "..         ...                 ...         ...             ...       ...   \n",
       "840  3563307.0             15534.0  17566124.0        245789.0  112601.0   \n",
       "841  3484279.0             19501.0  19530586.0        269893.0   95302.0   \n",
       "842  4775790.0             38839.0  21984118.0        491745.0  114614.0   \n",
       "843  3479157.0             16586.0  24264734.0        335289.0  107085.0   \n",
       "844  5589807.0             23293.0  30211697.0        274576.0  131561.0   \n",
       "\n",
       "     Ядер-Кола   Оружие  \n",
       "0          0.0      0.0  \n",
       "1          0.0      0.0  \n",
       "2      47141.0   2526.0  \n",
       "3          5.0     30.0  \n",
       "4     161995.0    844.0  \n",
       "..         ...      ...  \n",
       "840   163479.0  11152.0  \n",
       "841   150300.0  13614.0  \n",
       "842   383469.0  26467.0  \n",
       "843   192845.0  19941.0  \n",
       "844   232613.0  18243.0  \n",
       "\n",
       "[845 rows x 12 columns]"
      ]
     },
     "execution_count": 230,
     "metadata": {},
     "output_type": "execute_result"
    }
   ],
   "source": [
    "df"
   ]
  },
  {
   "cell_type": "code",
   "execution_count": 259,
   "metadata": {},
   "outputs": [
    {
     "data": {
      "text/html": [
       "<div>\n",
       "<style scoped>\n",
       "    .dataframe tbody tr th:only-of-type {\n",
       "        vertical-align: middle;\n",
       "    }\n",
       "\n",
       "    .dataframe tbody tr th {\n",
       "        vertical-align: top;\n",
       "    }\n",
       "\n",
       "    .dataframe thead th {\n",
       "        text-align: right;\n",
       "    }\n",
       "</style>\n",
       "<table border=\"1\" class=\"dataframe\">\n",
       "  <thead>\n",
       "    <tr style=\"text-align: right;\">\n",
       "      <th></th>\n",
       "      <th>shop_id</th>\n",
       "      <th>Броня и одежда</th>\n",
       "      <th>Модификации тачки</th>\n",
       "      <th>Медпрепараты и еда</th>\n",
       "      <th>Патроны</th>\n",
       "      <th>Солярка</th>\n",
       "      <th>Жидкости для тачки</th>\n",
       "      <th>Бензак</th>\n",
       "      <th>Съедобный хлам</th>\n",
       "      <th>Хлам</th>\n",
       "      <th>Ядер-Кола</th>\n",
       "      <th>Оружие</th>\n",
       "    </tr>\n",
       "  </thead>\n",
       "  <tbody>\n",
       "    <tr>\n",
       "      <th>0</th>\n",
       "      <td>0</td>\n",
       "      <td>0.000007</td>\n",
       "      <td>0.000000</td>\n",
       "      <td>0.000000</td>\n",
       "      <td>0.000000</td>\n",
       "      <td>0.000000</td>\n",
       "      <td>0.000003</td>\n",
       "      <td>0.999782</td>\n",
       "      <td>0.000092</td>\n",
       "      <td>0.000116</td>\n",
       "      <td>0.000000e+00</td>\n",
       "      <td>0.000000</td>\n",
       "    </tr>\n",
       "    <tr>\n",
       "      <th>1</th>\n",
       "      <td>1</td>\n",
       "      <td>0.000106</td>\n",
       "      <td>0.000000</td>\n",
       "      <td>0.000000</td>\n",
       "      <td>0.000000</td>\n",
       "      <td>0.132930</td>\n",
       "      <td>0.000026</td>\n",
       "      <td>0.779314</td>\n",
       "      <td>0.001746</td>\n",
       "      <td>0.000457</td>\n",
       "      <td>0.000000e+00</td>\n",
       "      <td>0.000000</td>\n",
       "    </tr>\n",
       "    <tr>\n",
       "      <th>2</th>\n",
       "      <td>2</td>\n",
       "      <td>0.001852</td>\n",
       "      <td>0.000474</td>\n",
       "      <td>0.000267</td>\n",
       "      <td>0.054632</td>\n",
       "      <td>0.118317</td>\n",
       "      <td>0.000305</td>\n",
       "      <td>0.682664</td>\n",
       "      <td>0.009907</td>\n",
       "      <td>0.003433</td>\n",
       "      <td>4.046365e-03</td>\n",
       "      <td>0.000217</td>\n",
       "    </tr>\n",
       "    <tr>\n",
       "      <th>3</th>\n",
       "      <td>3</td>\n",
       "      <td>0.000065</td>\n",
       "      <td>0.000005</td>\n",
       "      <td>0.000000</td>\n",
       "      <td>0.000000</td>\n",
       "      <td>0.205953</td>\n",
       "      <td>0.001140</td>\n",
       "      <td>1.978405</td>\n",
       "      <td>0.002751</td>\n",
       "      <td>0.001521</td>\n",
       "      <td>4.291768e-07</td>\n",
       "      <td>0.000003</td>\n",
       "    </tr>\n",
       "    <tr>\n",
       "      <th>4</th>\n",
       "      <td>4</td>\n",
       "      <td>0.001187</td>\n",
       "      <td>0.001453</td>\n",
       "      <td>0.003222</td>\n",
       "      <td>0.068435</td>\n",
       "      <td>0.279699</td>\n",
       "      <td>0.001325</td>\n",
       "      <td>2.007648</td>\n",
       "      <td>0.024863</td>\n",
       "      <td>0.006863</td>\n",
       "      <td>1.390490e-02</td>\n",
       "      <td>0.000072</td>\n",
       "    </tr>\n",
       "    <tr>\n",
       "      <th>...</th>\n",
       "      <td>...</td>\n",
       "      <td>...</td>\n",
       "      <td>...</td>\n",
       "      <td>...</td>\n",
       "      <td>...</td>\n",
       "      <td>...</td>\n",
       "      <td>...</td>\n",
       "      <td>...</td>\n",
       "      <td>...</td>\n",
       "      <td>...</td>\n",
       "      <td>...</td>\n",
       "      <td>...</td>\n",
       "    </tr>\n",
       "    <tr>\n",
       "      <th>840</th>\n",
       "      <td>840</td>\n",
       "      <td>0.004156</td>\n",
       "      <td>0.002317</td>\n",
       "      <td>0.008259</td>\n",
       "      <td>0.034798</td>\n",
       "      <td>0.305858</td>\n",
       "      <td>0.001333</td>\n",
       "      <td>1.507795</td>\n",
       "      <td>0.021097</td>\n",
       "      <td>0.009665</td>\n",
       "      <td>1.403228e-02</td>\n",
       "      <td>0.000957</td>\n",
       "    </tr>\n",
       "    <tr>\n",
       "      <th>841</th>\n",
       "      <td>841</td>\n",
       "      <td>0.002746</td>\n",
       "      <td>0.001518</td>\n",
       "      <td>0.006770</td>\n",
       "      <td>0.047298</td>\n",
       "      <td>0.299074</td>\n",
       "      <td>0.001674</td>\n",
       "      <td>1.676415</td>\n",
       "      <td>0.023166</td>\n",
       "      <td>0.008180</td>\n",
       "      <td>1.290106e-02</td>\n",
       "      <td>0.001169</td>\n",
       "    </tr>\n",
       "    <tr>\n",
       "      <th>842</th>\n",
       "      <td>842</td>\n",
       "      <td>0.003894</td>\n",
       "      <td>0.002938</td>\n",
       "      <td>0.016609</td>\n",
       "      <td>0.056816</td>\n",
       "      <td>0.409932</td>\n",
       "      <td>0.003334</td>\n",
       "      <td>1.887015</td>\n",
       "      <td>0.042209</td>\n",
       "      <td>0.009838</td>\n",
       "      <td>3.291520e-02</td>\n",
       "      <td>0.002272</td>\n",
       "    </tr>\n",
       "    <tr>\n",
       "      <th>843</th>\n",
       "      <td>843</td>\n",
       "      <td>0.004386</td>\n",
       "      <td>0.001530</td>\n",
       "      <td>0.009048</td>\n",
       "      <td>0.073472</td>\n",
       "      <td>0.298635</td>\n",
       "      <td>0.001424</td>\n",
       "      <td>2.082772</td>\n",
       "      <td>0.028780</td>\n",
       "      <td>0.009192</td>\n",
       "      <td>1.655292e-02</td>\n",
       "      <td>0.001712</td>\n",
       "    </tr>\n",
       "    <tr>\n",
       "      <th>844</th>\n",
       "      <td>844</td>\n",
       "      <td>0.003682</td>\n",
       "      <td>0.002376</td>\n",
       "      <td>0.008242</td>\n",
       "      <td>0.041498</td>\n",
       "      <td>0.479803</td>\n",
       "      <td>0.001999</td>\n",
       "      <td>2.593232</td>\n",
       "      <td>0.023568</td>\n",
       "      <td>0.011293</td>\n",
       "      <td>1.996642e-02</td>\n",
       "      <td>0.001566</td>\n",
       "    </tr>\n",
       "  </tbody>\n",
       "</table>\n",
       "<p>845 rows × 12 columns</p>\n",
       "</div>"
      ],
      "text/plain": [
       "     shop_id  Броня и одежда  Модификации тачки  Медпрепараты и еда   Патроны  \\\n",
       "0          0        0.000007           0.000000            0.000000  0.000000   \n",
       "1          1        0.000106           0.000000            0.000000  0.000000   \n",
       "2          2        0.001852           0.000474            0.000267  0.054632   \n",
       "3          3        0.000065           0.000005            0.000000  0.000000   \n",
       "4          4        0.001187           0.001453            0.003222  0.068435   \n",
       "..       ...             ...                ...                 ...       ...   \n",
       "840      840        0.004156           0.002317            0.008259  0.034798   \n",
       "841      841        0.002746           0.001518            0.006770  0.047298   \n",
       "842      842        0.003894           0.002938            0.016609  0.056816   \n",
       "843      843        0.004386           0.001530            0.009048  0.073472   \n",
       "844      844        0.003682           0.002376            0.008242  0.041498   \n",
       "\n",
       "      Солярка  Жидкости для тачки    Бензак  Съедобный хлам      Хлам  \\\n",
       "0    0.000000            0.000003  0.999782        0.000092  0.000116   \n",
       "1    0.132930            0.000026  0.779314        0.001746  0.000457   \n",
       "2    0.118317            0.000305  0.682664        0.009907  0.003433   \n",
       "3    0.205953            0.001140  1.978405        0.002751  0.001521   \n",
       "4    0.279699            0.001325  2.007648        0.024863  0.006863   \n",
       "..        ...                 ...       ...             ...       ...   \n",
       "840  0.305858            0.001333  1.507795        0.021097  0.009665   \n",
       "841  0.299074            0.001674  1.676415        0.023166  0.008180   \n",
       "842  0.409932            0.003334  1.887015        0.042209  0.009838   \n",
       "843  0.298635            0.001424  2.082772        0.028780  0.009192   \n",
       "844  0.479803            0.001999  2.593232        0.023568  0.011293   \n",
       "\n",
       "        Ядер-Кола    Оружие  \n",
       "0    0.000000e+00  0.000000  \n",
       "1    0.000000e+00  0.000000  \n",
       "2    4.046365e-03  0.000217  \n",
       "3    4.291768e-07  0.000003  \n",
       "4    1.390490e-02  0.000072  \n",
       "..            ...       ...  \n",
       "840  1.403228e-02  0.000957  \n",
       "841  1.290106e-02  0.001169  \n",
       "842  3.291520e-02  0.002272  \n",
       "843  1.655292e-02  0.001712  \n",
       "844  1.996642e-02  0.001566  \n",
       "\n",
       "[845 rows x 12 columns]"
      ]
     },
     "execution_count": 259,
     "metadata": {},
     "output_type": "execute_result"
    }
   ],
   "source": [
    "f = df.apply(np.sum, axis=1) # нормализация признаков\n",
    "new_df = df.div(f.iloc[0], axis='columns')\n",
    "new_df['shop_id'] = df['shop_id']\n",
    "new_df"
   ]
  },
  {
   "cell_type": "code",
   "execution_count": 240,
   "metadata": {},
   "outputs": [
    {
     "data": {
      "text/html": [
       "<div>\n",
       "<style scoped>\n",
       "    .dataframe tbody tr th:only-of-type {\n",
       "        vertical-align: middle;\n",
       "    }\n",
       "\n",
       "    .dataframe tbody tr th {\n",
       "        vertical-align: top;\n",
       "    }\n",
       "\n",
       "    .dataframe thead th {\n",
       "        text-align: right;\n",
       "    }\n",
       "</style>\n",
       "<table border=\"1\" class=\"dataframe\">\n",
       "  <thead>\n",
       "    <tr style=\"text-align: right;\">\n",
       "      <th></th>\n",
       "      <th>shop_id</th>\n",
       "      <th>Броня и одежда</th>\n",
       "      <th>Модификации тачки</th>\n",
       "      <th>Медпрепараты и еда</th>\n",
       "      <th>Патроны</th>\n",
       "      <th>Солярка</th>\n",
       "      <th>Жидкости для тачки</th>\n",
       "      <th>Бензак</th>\n",
       "      <th>Съедобный хлам</th>\n",
       "      <th>Хлам</th>\n",
       "      <th>Ядер-Кола</th>\n",
       "      <th>Оружие</th>\n",
       "    </tr>\n",
       "  </thead>\n",
       "  <tbody>\n",
       "    <tr>\n",
       "      <th>0</th>\n",
       "      <td>0</td>\n",
       "      <td>81.0</td>\n",
       "      <td>0.0</td>\n",
       "      <td>0.0</td>\n",
       "      <td>0.0</td>\n",
       "      <td>0.0</td>\n",
       "      <td>35.0</td>\n",
       "      <td>11647666.0</td>\n",
       "      <td>1077.0</td>\n",
       "      <td>1351.0</td>\n",
       "      <td>0.0</td>\n",
       "      <td>0.0</td>\n",
       "    </tr>\n",
       "    <tr>\n",
       "      <th>1</th>\n",
       "      <td>1</td>\n",
       "      <td>1236.0</td>\n",
       "      <td>0.0</td>\n",
       "      <td>0.0</td>\n",
       "      <td>0.0</td>\n",
       "      <td>1548661.0</td>\n",
       "      <td>298.0</td>\n",
       "      <td>9079168.0</td>\n",
       "      <td>20340.0</td>\n",
       "      <td>5321.0</td>\n",
       "      <td>0.0</td>\n",
       "      <td>0.0</td>\n",
       "    </tr>\n",
       "    <tr>\n",
       "      <th>2</th>\n",
       "      <td>2</td>\n",
       "      <td>21571.0</td>\n",
       "      <td>5527.0</td>\n",
       "      <td>3109.0</td>\n",
       "      <td>636472.0</td>\n",
       "      <td>1378414.0</td>\n",
       "      <td>3550.0</td>\n",
       "      <td>7953184.0</td>\n",
       "      <td>115414.0</td>\n",
       "      <td>39997.0</td>\n",
       "      <td>47141.0</td>\n",
       "      <td>2526.0</td>\n",
       "    </tr>\n",
       "    <tr>\n",
       "      <th>3</th>\n",
       "      <td>3</td>\n",
       "      <td>754.0</td>\n",
       "      <td>61.0</td>\n",
       "      <td>0.0</td>\n",
       "      <td>0.0</td>\n",
       "      <td>2399400.0</td>\n",
       "      <td>13286.0</td>\n",
       "      <td>23048831.0</td>\n",
       "      <td>32051.0</td>\n",
       "      <td>17724.0</td>\n",
       "      <td>5.0</td>\n",
       "      <td>30.0</td>\n",
       "    </tr>\n",
       "    <tr>\n",
       "      <th>4</th>\n",
       "      <td>4</td>\n",
       "      <td>13826.0</td>\n",
       "      <td>16925.0</td>\n",
       "      <td>37541.0</td>\n",
       "      <td>797282.0</td>\n",
       "      <td>3258548.0</td>\n",
       "      <td>15438.0</td>\n",
       "      <td>23389524.0</td>\n",
       "      <td>289664.0</td>\n",
       "      <td>79956.0</td>\n",
       "      <td>161995.0</td>\n",
       "      <td>844.0</td>\n",
       "    </tr>\n",
       "    <tr>\n",
       "      <th>...</th>\n",
       "      <td>...</td>\n",
       "      <td>...</td>\n",
       "      <td>...</td>\n",
       "      <td>...</td>\n",
       "      <td>...</td>\n",
       "      <td>...</td>\n",
       "      <td>...</td>\n",
       "      <td>...</td>\n",
       "      <td>...</td>\n",
       "      <td>...</td>\n",
       "      <td>...</td>\n",
       "      <td>...</td>\n",
       "    </tr>\n",
       "    <tr>\n",
       "      <th>840</th>\n",
       "      <td>840</td>\n",
       "      <td>48415.0</td>\n",
       "      <td>26988.0</td>\n",
       "      <td>96224.0</td>\n",
       "      <td>405407.0</td>\n",
       "      <td>3563307.0</td>\n",
       "      <td>15534.0</td>\n",
       "      <td>17566124.0</td>\n",
       "      <td>245789.0</td>\n",
       "      <td>112601.0</td>\n",
       "      <td>163479.0</td>\n",
       "      <td>11152.0</td>\n",
       "    </tr>\n",
       "    <tr>\n",
       "      <th>841</th>\n",
       "      <td>841</td>\n",
       "      <td>31991.0</td>\n",
       "      <td>17683.0</td>\n",
       "      <td>78876.0</td>\n",
       "      <td>551027.0</td>\n",
       "      <td>3484279.0</td>\n",
       "      <td>19501.0</td>\n",
       "      <td>19530586.0</td>\n",
       "      <td>269893.0</td>\n",
       "      <td>95302.0</td>\n",
       "      <td>150300.0</td>\n",
       "      <td>13614.0</td>\n",
       "    </tr>\n",
       "    <tr>\n",
       "      <th>842</th>\n",
       "      <td>842</td>\n",
       "      <td>45371.0</td>\n",
       "      <td>34233.0</td>\n",
       "      <td>193496.0</td>\n",
       "      <td>661920.0</td>\n",
       "      <td>4775790.0</td>\n",
       "      <td>38839.0</td>\n",
       "      <td>21984118.0</td>\n",
       "      <td>491745.0</td>\n",
       "      <td>114614.0</td>\n",
       "      <td>383469.0</td>\n",
       "      <td>26467.0</td>\n",
       "    </tr>\n",
       "    <tr>\n",
       "      <th>843</th>\n",
       "      <td>843</td>\n",
       "      <td>51099.0</td>\n",
       "      <td>17824.0</td>\n",
       "      <td>105411.0</td>\n",
       "      <td>855965.0</td>\n",
       "      <td>3479157.0</td>\n",
       "      <td>16586.0</td>\n",
       "      <td>24264734.0</td>\n",
       "      <td>335289.0</td>\n",
       "      <td>107085.0</td>\n",
       "      <td>192845.0</td>\n",
       "      <td>19941.0</td>\n",
       "    </tr>\n",
       "    <tr>\n",
       "      <th>844</th>\n",
       "      <td>844</td>\n",
       "      <td>42892.0</td>\n",
       "      <td>27685.0</td>\n",
       "      <td>96017.0</td>\n",
       "      <td>483466.0</td>\n",
       "      <td>5589807.0</td>\n",
       "      <td>23293.0</td>\n",
       "      <td>30211697.0</td>\n",
       "      <td>274576.0</td>\n",
       "      <td>131561.0</td>\n",
       "      <td>232613.0</td>\n",
       "      <td>18243.0</td>\n",
       "    </tr>\n",
       "  </tbody>\n",
       "</table>\n",
       "<p>845 rows × 12 columns</p>\n",
       "</div>"
      ],
      "text/plain": [
       "     shop_id  Броня и одежда  Модификации тачки  Медпрепараты и еда   Патроны  \\\n",
       "0          0            81.0                0.0                 0.0       0.0   \n",
       "1          1          1236.0                0.0                 0.0       0.0   \n",
       "2          2         21571.0             5527.0              3109.0  636472.0   \n",
       "3          3           754.0               61.0                 0.0       0.0   \n",
       "4          4         13826.0            16925.0             37541.0  797282.0   \n",
       "..       ...             ...                ...                 ...       ...   \n",
       "840      840         48415.0            26988.0             96224.0  405407.0   \n",
       "841      841         31991.0            17683.0             78876.0  551027.0   \n",
       "842      842         45371.0            34233.0            193496.0  661920.0   \n",
       "843      843         51099.0            17824.0            105411.0  855965.0   \n",
       "844      844         42892.0            27685.0             96017.0  483466.0   \n",
       "\n",
       "       Солярка  Жидкости для тачки      Бензак  Съедобный хлам      Хлам  \\\n",
       "0          0.0                35.0  11647666.0          1077.0    1351.0   \n",
       "1    1548661.0               298.0   9079168.0         20340.0    5321.0   \n",
       "2    1378414.0              3550.0   7953184.0        115414.0   39997.0   \n",
       "3    2399400.0             13286.0  23048831.0         32051.0   17724.0   \n",
       "4    3258548.0             15438.0  23389524.0        289664.0   79956.0   \n",
       "..         ...                 ...         ...             ...       ...   \n",
       "840  3563307.0             15534.0  17566124.0        245789.0  112601.0   \n",
       "841  3484279.0             19501.0  19530586.0        269893.0   95302.0   \n",
       "842  4775790.0             38839.0  21984118.0        491745.0  114614.0   \n",
       "843  3479157.0             16586.0  24264734.0        335289.0  107085.0   \n",
       "844  5589807.0             23293.0  30211697.0        274576.0  131561.0   \n",
       "\n",
       "     Ядер-Кола   Оружие  \n",
       "0          0.0      0.0  \n",
       "1          0.0      0.0  \n",
       "2      47141.0   2526.0  \n",
       "3          5.0     30.0  \n",
       "4     161995.0    844.0  \n",
       "..         ...      ...  \n",
       "840   163479.0  11152.0  \n",
       "841   150300.0  13614.0  \n",
       "842   383469.0  26467.0  \n",
       "843   192845.0  19941.0  \n",
       "844   232613.0  18243.0  \n",
       "\n",
       "[845 rows x 12 columns]"
      ]
     },
     "execution_count": 240,
     "metadata": {},
     "output_type": "execute_result"
    }
   ],
   "source": []
  },
  {
   "cell_type": "code",
   "execution_count": null,
   "metadata": {},
   "outputs": [],
   "source": []
  },
  {
   "cell_type": "code",
   "execution_count": null,
   "metadata": {},
   "outputs": [],
   "source": []
  },
  {
   "cell_type": "code",
   "execution_count": null,
   "metadata": {},
   "outputs": [],
   "source": []
  },
  {
   "cell_type": "code",
   "execution_count": null,
   "metadata": {},
   "outputs": [],
   "source": []
  },
  {
   "cell_type": "code",
   "execution_count": 215,
   "metadata": {},
   "outputs": [
    {
     "data": {
      "text/html": [
       "<div>\n",
       "<style scoped>\n",
       "    .dataframe tbody tr th:only-of-type {\n",
       "        vertical-align: middle;\n",
       "    }\n",
       "\n",
       "    .dataframe tbody tr th {\n",
       "        vertical-align: top;\n",
       "    }\n",
       "\n",
       "    .dataframe thead th {\n",
       "        text-align: right;\n",
       "    }\n",
       "</style>\n",
       "<table border=\"1\" class=\"dataframe\">\n",
       "  <thead>\n",
       "    <tr style=\"text-align: right;\">\n",
       "      <th></th>\n",
       "      <th>total_items_sold</th>\n",
       "      <th>tis</th>\n",
       "    </tr>\n",
       "    <tr>\n",
       "      <th>shop_id</th>\n",
       "      <th></th>\n",
       "      <th></th>\n",
       "    </tr>\n",
       "  </thead>\n",
       "  <tbody>\n",
       "    <tr>\n",
       "      <th>0</th>\n",
       "      <td>11647666.0</td>\n",
       "      <td>NaN</td>\n",
       "    </tr>\n",
       "    <tr>\n",
       "      <th>1</th>\n",
       "      <td>9079168.0</td>\n",
       "      <td>NaN</td>\n",
       "    </tr>\n",
       "    <tr>\n",
       "      <th>2</th>\n",
       "      <td>7953184.0</td>\n",
       "      <td>636472.0</td>\n",
       "    </tr>\n",
       "    <tr>\n",
       "      <th>3</th>\n",
       "      <td>23048831.0</td>\n",
       "      <td>NaN</td>\n",
       "    </tr>\n",
       "    <tr>\n",
       "      <th>4</th>\n",
       "      <td>23389524.0</td>\n",
       "      <td>797282.0</td>\n",
       "    </tr>\n",
       "    <tr>\n",
       "      <th>...</th>\n",
       "      <td>...</td>\n",
       "      <td>...</td>\n",
       "    </tr>\n",
       "    <tr>\n",
       "      <th>840</th>\n",
       "      <td>17566124.0</td>\n",
       "      <td>405407.0</td>\n",
       "    </tr>\n",
       "    <tr>\n",
       "      <th>841</th>\n",
       "      <td>19530586.0</td>\n",
       "      <td>551027.0</td>\n",
       "    </tr>\n",
       "    <tr>\n",
       "      <th>842</th>\n",
       "      <td>21984118.0</td>\n",
       "      <td>661920.0</td>\n",
       "    </tr>\n",
       "    <tr>\n",
       "      <th>843</th>\n",
       "      <td>24264734.0</td>\n",
       "      <td>855965.0</td>\n",
       "    </tr>\n",
       "    <tr>\n",
       "      <th>844</th>\n",
       "      <td>30211697.0</td>\n",
       "      <td>483466.0</td>\n",
       "    </tr>\n",
       "  </tbody>\n",
       "</table>\n",
       "<p>845 rows × 2 columns</p>\n",
       "</div>"
      ],
      "text/plain": [
       "         total_items_sold       tis\n",
       "shop_id                            \n",
       "0              11647666.0       NaN\n",
       "1               9079168.0       NaN\n",
       "2               7953184.0  636472.0\n",
       "3              23048831.0       NaN\n",
       "4              23389524.0  797282.0\n",
       "...                   ...       ...\n",
       "840            17566124.0  405407.0\n",
       "841            19530586.0  551027.0\n",
       "842            21984118.0  661920.0\n",
       "843            24264734.0  855965.0\n",
       "844            30211697.0  483466.0\n",
       "\n",
       "[845 rows x 2 columns]"
      ]
     },
     "execution_count": 215,
     "metadata": {},
     "output_type": "execute_result"
    }
   ],
   "source": [
    "merged_inner = pd.merge(left=df1, right=df2, left_on='shop_id', right_on='shop_id',  how='outer')\n",
    "merged_inner"
   ]
  },
  {
   "cell_type": "code",
   "execution_count": 193,
   "metadata": {},
   "outputs": [],
   "source": [
    "p = sales[sales['goods_type'] == 'Броня и одежда'].groupby('shop_id').aggregate({'total_items_sold' : 'sum'})"
   ]
  },
  {
   "cell_type": "code",
   "execution_count": 168,
   "metadata": {},
   "outputs": [
    {
     "data": {
      "text/plain": [
       "0"
      ]
     },
     "execution_count": 168,
     "metadata": {},
     "output_type": "execute_result"
    }
   ],
   "source": [
    " sales['shop_id'][1]"
   ]
  },
  {
   "cell_type": "code",
   "execution_count": null,
   "metadata": {},
   "outputs": [],
   "source": [
    "from collections import defaultdict "
   ]
  },
  {
   "cell_type": "code",
   "execution_count": 167,
   "metadata": {},
   "outputs": [
    {
     "ename": "KeyboardInterrupt",
     "evalue": "",
     "output_type": "error",
     "traceback": [
      "\u001b[0;31m---------------------------------------------------------------------------\u001b[0m",
      "\u001b[0;31mKeyboardInterrupt\u001b[0m                         Traceback (most recent call last)",
      "\u001b[0;32m<ipython-input-167-8e7c84fbae4b>\u001b[0m in \u001b[0;36m<module>\u001b[0;34m\u001b[0m\n\u001b[0;32m----> 1\u001b[0;31m \u001b[0;32mfor\u001b[0m \u001b[0mindex\u001b[0m\u001b[0;34m,\u001b[0m \u001b[0mrow\u001b[0m \u001b[0;32min\u001b[0m \u001b[0mdf\u001b[0m\u001b[0;34m.\u001b[0m\u001b[0miterrows\u001b[0m\u001b[0;34m(\u001b[0m\u001b[0;34m)\u001b[0m\u001b[0;34m:\u001b[0m\u001b[0;34m\u001b[0m\u001b[0;34m\u001b[0m\u001b[0m\n\u001b[0m\u001b[1;32m      2\u001b[0m     \u001b[0mprint\u001b[0m\u001b[0;34m(\u001b[0m\u001b[0mrow\u001b[0m\u001b[0;34m[\u001b[0m\u001b[0;34m'shop_id'\u001b[0m\u001b[0;34m]\u001b[0m\u001b[0;34m,\u001b[0m \u001b[0mrow\u001b[0m\u001b[0;34m[\u001b[0m\u001b[0;34m'shop_id'\u001b[0m\u001b[0;34m]\u001b[0m\u001b[0;34m)\u001b[0m\u001b[0;34m\u001b[0m\u001b[0;34m\u001b[0m\u001b[0m\n\u001b[1;32m      3\u001b[0m     \u001b[0;32mbreak\u001b[0m\u001b[0;34m\u001b[0m\u001b[0;34m\u001b[0m\u001b[0m\n",
      "\u001b[0;32m/Library/Frameworks/Python.framework/Versions/3.7/lib/python3.7/site-packages/pandas/core/frame.py\u001b[0m in \u001b[0;36miterrows\u001b[0;34m(self)\u001b[0m\n\u001b[1;32m    906\u001b[0m         \u001b[0mcolumns\u001b[0m \u001b[0;34m=\u001b[0m \u001b[0mself\u001b[0m\u001b[0;34m.\u001b[0m\u001b[0mcolumns\u001b[0m\u001b[0;34m\u001b[0m\u001b[0;34m\u001b[0m\u001b[0m\n\u001b[1;32m    907\u001b[0m         \u001b[0mklass\u001b[0m \u001b[0;34m=\u001b[0m \u001b[0mself\u001b[0m\u001b[0;34m.\u001b[0m\u001b[0m_constructor_sliced\u001b[0m\u001b[0;34m\u001b[0m\u001b[0;34m\u001b[0m\u001b[0m\n\u001b[0;32m--> 908\u001b[0;31m         \u001b[0;32mfor\u001b[0m \u001b[0mk\u001b[0m\u001b[0;34m,\u001b[0m \u001b[0mv\u001b[0m \u001b[0;32min\u001b[0m \u001b[0mzip\u001b[0m\u001b[0;34m(\u001b[0m\u001b[0mself\u001b[0m\u001b[0;34m.\u001b[0m\u001b[0mindex\u001b[0m\u001b[0;34m,\u001b[0m \u001b[0mself\u001b[0m\u001b[0;34m.\u001b[0m\u001b[0mvalues\u001b[0m\u001b[0;34m)\u001b[0m\u001b[0;34m:\u001b[0m\u001b[0;34m\u001b[0m\u001b[0;34m\u001b[0m\u001b[0m\n\u001b[0m\u001b[1;32m    909\u001b[0m             \u001b[0ms\u001b[0m \u001b[0;34m=\u001b[0m \u001b[0mklass\u001b[0m\u001b[0;34m(\u001b[0m\u001b[0mv\u001b[0m\u001b[0;34m,\u001b[0m \u001b[0mindex\u001b[0m\u001b[0;34m=\u001b[0m\u001b[0mcolumns\u001b[0m\u001b[0;34m,\u001b[0m \u001b[0mname\u001b[0m\u001b[0;34m=\u001b[0m\u001b[0mk\u001b[0m\u001b[0;34m)\u001b[0m\u001b[0;34m\u001b[0m\u001b[0;34m\u001b[0m\u001b[0m\n\u001b[1;32m    910\u001b[0m             \u001b[0;32myield\u001b[0m \u001b[0mk\u001b[0m\u001b[0;34m,\u001b[0m \u001b[0ms\u001b[0m\u001b[0;34m\u001b[0m\u001b[0;34m\u001b[0m\u001b[0m\n",
      "\u001b[0;32m/Library/Frameworks/Python.framework/Versions/3.7/lib/python3.7/site-packages/pandas/core/generic.py\u001b[0m in \u001b[0;36mvalues\u001b[0;34m(self)\u001b[0m\n\u001b[1;32m   5441\u001b[0m         \"\"\"\n\u001b[1;32m   5442\u001b[0m         \u001b[0mself\u001b[0m\u001b[0;34m.\u001b[0m\u001b[0m_consolidate_inplace\u001b[0m\u001b[0;34m(\u001b[0m\u001b[0;34m)\u001b[0m\u001b[0;34m\u001b[0m\u001b[0;34m\u001b[0m\u001b[0m\n\u001b[0;32m-> 5443\u001b[0;31m         \u001b[0;32mreturn\u001b[0m \u001b[0mself\u001b[0m\u001b[0;34m.\u001b[0m\u001b[0m_data\u001b[0m\u001b[0;34m.\u001b[0m\u001b[0mas_array\u001b[0m\u001b[0;34m(\u001b[0m\u001b[0mtranspose\u001b[0m\u001b[0;34m=\u001b[0m\u001b[0mself\u001b[0m\u001b[0;34m.\u001b[0m\u001b[0m_AXIS_REVERSED\u001b[0m\u001b[0;34m)\u001b[0m\u001b[0;34m\u001b[0m\u001b[0;34m\u001b[0m\u001b[0m\n\u001b[0m\u001b[1;32m   5444\u001b[0m \u001b[0;34m\u001b[0m\u001b[0m\n\u001b[1;32m   5445\u001b[0m     \u001b[0;34m@\u001b[0m\u001b[0mproperty\u001b[0m\u001b[0;34m\u001b[0m\u001b[0;34m\u001b[0m\u001b[0m\n",
      "\u001b[0;32m/Library/Frameworks/Python.framework/Versions/3.7/lib/python3.7/site-packages/pandas/core/internals/managers.py\u001b[0m in \u001b[0;36mas_array\u001b[0;34m(self, transpose, items)\u001b[0m\n\u001b[1;32m    820\u001b[0m             \u001b[0marr\u001b[0m \u001b[0;34m=\u001b[0m \u001b[0mnp\u001b[0m\u001b[0;34m.\u001b[0m\u001b[0masarray\u001b[0m\u001b[0;34m(\u001b[0m\u001b[0mmgr\u001b[0m\u001b[0;34m.\u001b[0m\u001b[0mblocks\u001b[0m\u001b[0;34m[\u001b[0m\u001b[0;36m0\u001b[0m\u001b[0;34m]\u001b[0m\u001b[0;34m.\u001b[0m\u001b[0mget_values\u001b[0m\u001b[0;34m(\u001b[0m\u001b[0;34m)\u001b[0m\u001b[0;34m)\u001b[0m\u001b[0;34m\u001b[0m\u001b[0;34m\u001b[0m\u001b[0m\n\u001b[1;32m    821\u001b[0m         \u001b[0;32melse\u001b[0m\u001b[0;34m:\u001b[0m\u001b[0;34m\u001b[0m\u001b[0;34m\u001b[0m\u001b[0m\n\u001b[0;32m--> 822\u001b[0;31m             \u001b[0marr\u001b[0m \u001b[0;34m=\u001b[0m \u001b[0mmgr\u001b[0m\u001b[0;34m.\u001b[0m\u001b[0m_interleave\u001b[0m\u001b[0;34m(\u001b[0m\u001b[0;34m)\u001b[0m\u001b[0;34m\u001b[0m\u001b[0;34m\u001b[0m\u001b[0m\n\u001b[0m\u001b[1;32m    823\u001b[0m \u001b[0;34m\u001b[0m\u001b[0m\n\u001b[1;32m    824\u001b[0m         \u001b[0;32mreturn\u001b[0m \u001b[0marr\u001b[0m\u001b[0;34m.\u001b[0m\u001b[0mtranspose\u001b[0m\u001b[0;34m(\u001b[0m\u001b[0;34m)\u001b[0m \u001b[0;32mif\u001b[0m \u001b[0mtranspose\u001b[0m \u001b[0;32melse\u001b[0m \u001b[0marr\u001b[0m\u001b[0;34m\u001b[0m\u001b[0;34m\u001b[0m\u001b[0m\n",
      "\u001b[0;32m/Library/Frameworks/Python.framework/Versions/3.7/lib/python3.7/site-packages/pandas/core/internals/managers.py\u001b[0m in \u001b[0;36m_interleave\u001b[0;34m(self)\u001b[0m\n\u001b[1;32m    844\u001b[0m         \u001b[0;32mfor\u001b[0m \u001b[0mblk\u001b[0m \u001b[0;32min\u001b[0m \u001b[0mself\u001b[0m\u001b[0;34m.\u001b[0m\u001b[0mblocks\u001b[0m\u001b[0;34m:\u001b[0m\u001b[0;34m\u001b[0m\u001b[0;34m\u001b[0m\u001b[0m\n\u001b[1;32m    845\u001b[0m             \u001b[0mrl\u001b[0m \u001b[0;34m=\u001b[0m \u001b[0mblk\u001b[0m\u001b[0;34m.\u001b[0m\u001b[0mmgr_locs\u001b[0m\u001b[0;34m\u001b[0m\u001b[0;34m\u001b[0m\u001b[0m\n\u001b[0;32m--> 846\u001b[0;31m             \u001b[0mresult\u001b[0m\u001b[0;34m[\u001b[0m\u001b[0mrl\u001b[0m\u001b[0;34m.\u001b[0m\u001b[0mindexer\u001b[0m\u001b[0;34m]\u001b[0m \u001b[0;34m=\u001b[0m \u001b[0mblk\u001b[0m\u001b[0;34m.\u001b[0m\u001b[0mget_values\u001b[0m\u001b[0;34m(\u001b[0m\u001b[0mdtype\u001b[0m\u001b[0;34m)\u001b[0m\u001b[0;34m\u001b[0m\u001b[0;34m\u001b[0m\u001b[0m\n\u001b[0m\u001b[1;32m    847\u001b[0m             \u001b[0mitemmask\u001b[0m\u001b[0;34m[\u001b[0m\u001b[0mrl\u001b[0m\u001b[0;34m.\u001b[0m\u001b[0mindexer\u001b[0m\u001b[0;34m]\u001b[0m \u001b[0;34m=\u001b[0m \u001b[0;36m1\u001b[0m\u001b[0;34m\u001b[0m\u001b[0;34m\u001b[0m\u001b[0m\n\u001b[1;32m    848\u001b[0m \u001b[0;34m\u001b[0m\u001b[0m\n",
      "\u001b[0;32m/Library/Frameworks/Python.framework/Versions/3.7/lib/python3.7/site-packages/pandas/core/internals/blocks.py\u001b[0m in \u001b[0;36mget_values\u001b[0;34m(self, dtype)\u001b[0m\n\u001b[1;32m   2207\u001b[0m         \u001b[0;32mif\u001b[0m \u001b[0mis_object_dtype\u001b[0m\u001b[0;34m(\u001b[0m\u001b[0mdtype\u001b[0m\u001b[0;34m)\u001b[0m\u001b[0;34m:\u001b[0m\u001b[0;34m\u001b[0m\u001b[0;34m\u001b[0m\u001b[0m\n\u001b[1;32m   2208\u001b[0m             \u001b[0mvalues\u001b[0m \u001b[0;34m=\u001b[0m \u001b[0mself\u001b[0m\u001b[0;34m.\u001b[0m\u001b[0mvalues\u001b[0m\u001b[0;34m.\u001b[0m\u001b[0mravel\u001b[0m\u001b[0;34m(\u001b[0m\u001b[0;34m)\u001b[0m\u001b[0;34m\u001b[0m\u001b[0;34m\u001b[0m\u001b[0m\n\u001b[0;32m-> 2209\u001b[0;31m             \u001b[0mresult\u001b[0m \u001b[0;34m=\u001b[0m \u001b[0mself\u001b[0m\u001b[0;34m.\u001b[0m\u001b[0m_holder\u001b[0m\u001b[0;34m(\u001b[0m\u001b[0mvalues\u001b[0m\u001b[0;34m)\u001b[0m\u001b[0;34m.\u001b[0m\u001b[0mastype\u001b[0m\u001b[0;34m(\u001b[0m\u001b[0mobject\u001b[0m\u001b[0;34m)\u001b[0m\u001b[0;34m\u001b[0m\u001b[0;34m\u001b[0m\u001b[0m\n\u001b[0m\u001b[1;32m   2210\u001b[0m             \u001b[0;32mreturn\u001b[0m \u001b[0mresult\u001b[0m\u001b[0;34m.\u001b[0m\u001b[0mreshape\u001b[0m\u001b[0;34m(\u001b[0m\u001b[0mself\u001b[0m\u001b[0;34m.\u001b[0m\u001b[0mvalues\u001b[0m\u001b[0;34m.\u001b[0m\u001b[0mshape\u001b[0m\u001b[0;34m)\u001b[0m\u001b[0;34m\u001b[0m\u001b[0;34m\u001b[0m\u001b[0m\n\u001b[1;32m   2211\u001b[0m         \u001b[0;32mreturn\u001b[0m \u001b[0mself\u001b[0m\u001b[0;34m.\u001b[0m\u001b[0mvalues\u001b[0m\u001b[0;34m\u001b[0m\u001b[0;34m\u001b[0m\u001b[0m\n",
      "\u001b[0;32m/Library/Frameworks/Python.framework/Versions/3.7/lib/python3.7/site-packages/pandas/core/arrays/datetimes.py\u001b[0m in \u001b[0;36mastype\u001b[0;34m(self, dtype, copy)\u001b[0m\n\u001b[1;32m    729\u001b[0m         \u001b[0;32melif\u001b[0m \u001b[0mis_period_dtype\u001b[0m\u001b[0;34m(\u001b[0m\u001b[0mdtype\u001b[0m\u001b[0;34m)\u001b[0m\u001b[0;34m:\u001b[0m\u001b[0;34m\u001b[0m\u001b[0;34m\u001b[0m\u001b[0m\n\u001b[1;32m    730\u001b[0m             \u001b[0;32mreturn\u001b[0m \u001b[0mself\u001b[0m\u001b[0;34m.\u001b[0m\u001b[0mto_period\u001b[0m\u001b[0;34m(\u001b[0m\u001b[0mfreq\u001b[0m\u001b[0;34m=\u001b[0m\u001b[0mdtype\u001b[0m\u001b[0;34m.\u001b[0m\u001b[0mfreq\u001b[0m\u001b[0;34m)\u001b[0m\u001b[0;34m\u001b[0m\u001b[0;34m\u001b[0m\u001b[0m\n\u001b[0;32m--> 731\u001b[0;31m         \u001b[0;32mreturn\u001b[0m \u001b[0mdtl\u001b[0m\u001b[0;34m.\u001b[0m\u001b[0mDatetimeLikeArrayMixin\u001b[0m\u001b[0;34m.\u001b[0m\u001b[0mastype\u001b[0m\u001b[0;34m(\u001b[0m\u001b[0mself\u001b[0m\u001b[0;34m,\u001b[0m \u001b[0mdtype\u001b[0m\u001b[0;34m,\u001b[0m \u001b[0mcopy\u001b[0m\u001b[0;34m)\u001b[0m\u001b[0;34m\u001b[0m\u001b[0;34m\u001b[0m\u001b[0m\n\u001b[0m\u001b[1;32m    732\u001b[0m \u001b[0;34m\u001b[0m\u001b[0m\n\u001b[1;32m    733\u001b[0m     \u001b[0;31m# ----------------------------------------------------------------\u001b[0m\u001b[0;34m\u001b[0m\u001b[0;34m\u001b[0m\u001b[0;34m\u001b[0m\u001b[0m\n",
      "\u001b[0;32m/Library/Frameworks/Python.framework/Versions/3.7/lib/python3.7/site-packages/pandas/core/arrays/datetimelike.py\u001b[0m in \u001b[0;36mastype\u001b[0;34m(self, dtype, copy)\u001b[0m\n\u001b[1;32m    524\u001b[0m \u001b[0;34m\u001b[0m\u001b[0m\n\u001b[1;32m    525\u001b[0m         \u001b[0;32mif\u001b[0m \u001b[0mis_object_dtype\u001b[0m\u001b[0;34m(\u001b[0m\u001b[0mdtype\u001b[0m\u001b[0;34m)\u001b[0m\u001b[0;34m:\u001b[0m\u001b[0;34m\u001b[0m\u001b[0;34m\u001b[0m\u001b[0m\n\u001b[0;32m--> 526\u001b[0;31m             \u001b[0;32mreturn\u001b[0m \u001b[0mself\u001b[0m\u001b[0;34m.\u001b[0m\u001b[0m_box_values\u001b[0m\u001b[0;34m(\u001b[0m\u001b[0mself\u001b[0m\u001b[0;34m.\u001b[0m\u001b[0masi8\u001b[0m\u001b[0;34m)\u001b[0m\u001b[0;34m\u001b[0m\u001b[0;34m\u001b[0m\u001b[0m\n\u001b[0m\u001b[1;32m    527\u001b[0m         \u001b[0;32melif\u001b[0m \u001b[0mis_string_dtype\u001b[0m\u001b[0;34m(\u001b[0m\u001b[0mdtype\u001b[0m\u001b[0;34m)\u001b[0m \u001b[0;32mand\u001b[0m \u001b[0;32mnot\u001b[0m \u001b[0mis_categorical_dtype\u001b[0m\u001b[0;34m(\u001b[0m\u001b[0mdtype\u001b[0m\u001b[0;34m)\u001b[0m\u001b[0;34m:\u001b[0m\u001b[0;34m\u001b[0m\u001b[0;34m\u001b[0m\u001b[0m\n\u001b[1;32m    528\u001b[0m             \u001b[0;32mreturn\u001b[0m \u001b[0mself\u001b[0m\u001b[0;34m.\u001b[0m\u001b[0m_format_native_types\u001b[0m\u001b[0;34m(\u001b[0m\u001b[0;34m)\u001b[0m\u001b[0;34m\u001b[0m\u001b[0;34m\u001b[0m\u001b[0m\n",
      "\u001b[0;32m/Library/Frameworks/Python.framework/Versions/3.7/lib/python3.7/site-packages/pandas/core/arrays/datetimelike.py\u001b[0m in \u001b[0;36m_box_values\u001b[0;34m(self, values)\u001b[0m\n\u001b[1;32m    348\u001b[0m         \u001b[0mapply\u001b[0m \u001b[0mbox\u001b[0m \u001b[0mfunc\u001b[0m \u001b[0mto\u001b[0m \u001b[0mpassed\u001b[0m \u001b[0mvalues\u001b[0m\u001b[0;34m\u001b[0m\u001b[0;34m\u001b[0m\u001b[0m\n\u001b[1;32m    349\u001b[0m         \"\"\"\n\u001b[0;32m--> 350\u001b[0;31m         \u001b[0;32mreturn\u001b[0m \u001b[0mlib\u001b[0m\u001b[0;34m.\u001b[0m\u001b[0mmap_infer\u001b[0m\u001b[0;34m(\u001b[0m\u001b[0mvalues\u001b[0m\u001b[0;34m,\u001b[0m \u001b[0mself\u001b[0m\u001b[0;34m.\u001b[0m\u001b[0m_box_func\u001b[0m\u001b[0;34m)\u001b[0m\u001b[0;34m\u001b[0m\u001b[0;34m\u001b[0m\u001b[0m\n\u001b[0m\u001b[1;32m    351\u001b[0m \u001b[0;34m\u001b[0m\u001b[0m\n\u001b[1;32m    352\u001b[0m     \u001b[0;32mdef\u001b[0m \u001b[0m__iter__\u001b[0m\u001b[0;34m(\u001b[0m\u001b[0mself\u001b[0m\u001b[0;34m)\u001b[0m\u001b[0;34m:\u001b[0m\u001b[0;34m\u001b[0m\u001b[0;34m\u001b[0m\u001b[0m\n",
      "\u001b[0;32mpandas/_libs/lib.pyx\u001b[0m in \u001b[0;36mpandas._libs.lib.map_infer\u001b[0;34m()\u001b[0m\n",
      "\u001b[0;32m/Library/Frameworks/Python.framework/Versions/3.7/lib/python3.7/site-packages/pandas/core/arrays/datetimes.py\u001b[0m in \u001b[0;36m<lambda>\u001b[0;34m(x)\u001b[0m\n\u001b[1;32m    601\u001b[0m     \u001b[0;34m@\u001b[0m\u001b[0mproperty\u001b[0m\u001b[0;34m\u001b[0m\u001b[0;34m\u001b[0m\u001b[0m\n\u001b[1;32m    602\u001b[0m     \u001b[0;32mdef\u001b[0m \u001b[0m_box_func\u001b[0m\u001b[0;34m(\u001b[0m\u001b[0mself\u001b[0m\u001b[0;34m)\u001b[0m\u001b[0;34m:\u001b[0m\u001b[0;34m\u001b[0m\u001b[0;34m\u001b[0m\u001b[0m\n\u001b[0;32m--> 603\u001b[0;31m         \u001b[0;32mreturn\u001b[0m \u001b[0;32mlambda\u001b[0m \u001b[0mx\u001b[0m\u001b[0;34m:\u001b[0m \u001b[0mTimestamp\u001b[0m\u001b[0;34m(\u001b[0m\u001b[0mx\u001b[0m\u001b[0;34m,\u001b[0m \u001b[0mfreq\u001b[0m\u001b[0;34m=\u001b[0m\u001b[0mself\u001b[0m\u001b[0;34m.\u001b[0m\u001b[0mfreq\u001b[0m\u001b[0;34m,\u001b[0m \u001b[0mtz\u001b[0m\u001b[0;34m=\u001b[0m\u001b[0mself\u001b[0m\u001b[0;34m.\u001b[0m\u001b[0mtz\u001b[0m\u001b[0;34m)\u001b[0m\u001b[0;34m\u001b[0m\u001b[0;34m\u001b[0m\u001b[0m\n\u001b[0m\u001b[1;32m    604\u001b[0m \u001b[0;34m\u001b[0m\u001b[0m\n\u001b[1;32m    605\u001b[0m     \u001b[0;34m@\u001b[0m\u001b[0mproperty\u001b[0m\u001b[0;34m\u001b[0m\u001b[0;34m\u001b[0m\u001b[0m\n",
      "\u001b[0;31mKeyboardInterrupt\u001b[0m: "
     ]
    }
   ],
   "source": [
    "for i in range(1, 8275):\n",
    "    d[sales['shop_id'][i]].append([sales['goods_type'][i],sales['total_items_sold'][i]])"
   ]
  },
  {
   "cell_type": "code",
   "execution_count": 163,
   "metadata": {},
   "outputs": [
    {
     "ename": "AttributeError",
     "evalue": "'DataFrame' object has no attribute 'rows'",
     "output_type": "error",
     "traceback": [
      "\u001b[0;31m---------------------------------------------------------------------------\u001b[0m",
      "\u001b[0;31mAttributeError\u001b[0m                            Traceback (most recent call last)",
      "\u001b[0;32m<ipython-input-163-9117118daf5a>\u001b[0m in \u001b[0;36m<module>\u001b[0;34m\u001b[0m\n\u001b[0;32m----> 1\u001b[0;31m \u001b[0;32mfor\u001b[0m \u001b[0mrow\u001b[0m \u001b[0;32min\u001b[0m \u001b[0msales\u001b[0m\u001b[0;34m.\u001b[0m\u001b[0mrows\u001b[0m\u001b[0;34m:\u001b[0m\u001b[0;34m\u001b[0m\u001b[0;34m\u001b[0m\u001b[0m\n\u001b[0m\u001b[1;32m      2\u001b[0m     \u001b[0mprint\u001b[0m\u001b[0;34m(\u001b[0m\u001b[0mrow\u001b[0m\u001b[0;34m)\u001b[0m\u001b[0;34m\u001b[0m\u001b[0;34m\u001b[0m\u001b[0m\n\u001b[1;32m      3\u001b[0m     \u001b[0;32mbreak\u001b[0m\u001b[0;34m\u001b[0m\u001b[0;34m\u001b[0m\u001b[0m\n",
      "\u001b[0;32m/Library/Frameworks/Python.framework/Versions/3.7/lib/python3.7/site-packages/pandas/core/generic.py\u001b[0m in \u001b[0;36m__getattr__\u001b[0;34m(self, name)\u001b[0m\n\u001b[1;32m   5177\u001b[0m             \u001b[0;32mif\u001b[0m \u001b[0mself\u001b[0m\u001b[0;34m.\u001b[0m\u001b[0m_info_axis\u001b[0m\u001b[0;34m.\u001b[0m\u001b[0m_can_hold_identifiers_and_holds_name\u001b[0m\u001b[0;34m(\u001b[0m\u001b[0mname\u001b[0m\u001b[0;34m)\u001b[0m\u001b[0;34m:\u001b[0m\u001b[0;34m\u001b[0m\u001b[0;34m\u001b[0m\u001b[0m\n\u001b[1;32m   5178\u001b[0m                 \u001b[0;32mreturn\u001b[0m \u001b[0mself\u001b[0m\u001b[0;34m[\u001b[0m\u001b[0mname\u001b[0m\u001b[0;34m]\u001b[0m\u001b[0;34m\u001b[0m\u001b[0;34m\u001b[0m\u001b[0m\n\u001b[0;32m-> 5179\u001b[0;31m             \u001b[0;32mreturn\u001b[0m \u001b[0mobject\u001b[0m\u001b[0;34m.\u001b[0m\u001b[0m__getattribute__\u001b[0m\u001b[0;34m(\u001b[0m\u001b[0mself\u001b[0m\u001b[0;34m,\u001b[0m \u001b[0mname\u001b[0m\u001b[0;34m)\u001b[0m\u001b[0;34m\u001b[0m\u001b[0;34m\u001b[0m\u001b[0m\n\u001b[0m\u001b[1;32m   5180\u001b[0m \u001b[0;34m\u001b[0m\u001b[0m\n\u001b[1;32m   5181\u001b[0m     \u001b[0;32mdef\u001b[0m \u001b[0m__setattr__\u001b[0m\u001b[0;34m(\u001b[0m\u001b[0mself\u001b[0m\u001b[0;34m,\u001b[0m \u001b[0mname\u001b[0m\u001b[0;34m,\u001b[0m \u001b[0mvalue\u001b[0m\u001b[0;34m)\u001b[0m\u001b[0;34m:\u001b[0m\u001b[0;34m\u001b[0m\u001b[0;34m\u001b[0m\u001b[0m\n",
      "\u001b[0;31mAttributeError\u001b[0m: 'DataFrame' object has no attribute 'rows'"
     ]
    }
   ],
   "source": [
    "for row in sales.rows:\n",
    "    print(row)\n",
    "    break"
   ]
  },
  {
   "cell_type": "code",
   "execution_count": 162,
   "metadata": {},
   "outputs": [
    {
     "data": {
      "text/plain": [
       "{'Бензак',\n",
       " 'Броня и одежда',\n",
       " 'Жидкости для тачки',\n",
       " 'Медпрепараты и еда',\n",
       " 'Модификации тачки',\n",
       " 'Оружие',\n",
       " 'Патроны',\n",
       " 'Солярка',\n",
       " 'Съедобный хлам',\n",
       " 'Хлам',\n",
       " 'Ядер-Кола'}"
      ]
     },
     "execution_count": 162,
     "metadata": {},
     "output_type": "execute_result"
    }
   ],
   "source": [
    "set(sales['goods_type'])"
   ]
  },
  {
   "cell_type": "code",
   "execution_count": null,
   "metadata": {},
   "outputs": [],
   "source": []
  },
  {
   "cell_type": "code",
   "execution_count": null,
   "metadata": {},
   "outputs": [],
   "source": []
  },
  {
   "cell_type": "code",
   "execution_count": null,
   "metadata": {},
   "outputs": [],
   "source": [
    "import pandas as pd\n",
    "inp = [{'c1':10, 'c2':100}, {'c1':11,'c2':110}, {'c1':12,'c2':120}]\n",
    "df = pd.DataFrame(inp)\n",
    "print df"
   ]
  },
  {
   "cell_type": "code",
   "execution_count": null,
   "metadata": {},
   "outputs": [],
   "source": [
    " c1   c2\n",
    "0  10  100\n",
    "1  11  110\n",
    "2  12  120"
   ]
  },
  {
   "cell_type": "code",
   "execution_count": null,
   "metadata": {},
   "outputs": [],
   "source": [
    "for row in df.rows:\n",
    "   print row['c1'], row['c2']"
   ]
  },
  {
   "cell_type": "code",
   "execution_count": null,
   "metadata": {},
   "outputs": [],
   "source": [
    " "
   ]
  },
  {
   "cell_type": "code",
   "execution_count": null,
   "metadata": {},
   "outputs": [],
   "source": []
  },
  {
   "cell_type": "code",
   "execution_count": 76,
   "metadata": {},
   "outputs": [],
   "source": [
    "shops['is_on_the_road'] = shops['is_on_the_road'].replace(\"нет\",0)\n",
    "shops['is_on_the_road'] = shops['is_on_the_road'].replace(\"да\",1)"
   ]
  },
  {
   "cell_type": "code",
   "execution_count": 77,
   "metadata": {},
   "outputs": [],
   "source": [
    "shops['is_with_the_well'] = shops['is_with_the_well'].replace(\"да\", 1)\n",
    "shops['is_with_the_well'] = shops['is_with_the_well'].replace(\"нет\", 0)"
   ]
  },
  {
   "cell_type": "code",
   "execution_count": 78,
   "metadata": {},
   "outputs": [],
   "source": [
    "shops['is_with_additional_services'] = shops['is_with_additional_services'].replace(\"да\", 1)\n",
    "shops['is_with_additional_services'] = shops['is_with_additional_services'].replace(\"нет\", 0)"
   ]
  },
  {
   "cell_type": "code",
   "execution_count": 79,
   "metadata": {},
   "outputs": [],
   "source": [
    "shops = shops[['shop_id', 'year_opened', 'is_on_the_road', 'is_with_the_well', 'is_with_additional_services', 'shop_type']]"
   ]
  },
  {
   "cell_type": "code",
   "execution_count": 80,
   "metadata": {},
   "outputs": [],
   "source": [
    "data = shops.to_numpy()"
   ]
  },
  {
   "cell_type": "code",
   "execution_count": 96,
   "metadata": {},
   "outputs": [
    {
     "name": "stdout",
     "output_type": "stream",
     "text": [
      "[ 0  0  1  2  2  3  1  4  0  1  1  1  7  1  0  0  1  0  4  1  0  0  1  0\n",
      "  1  0  1  1  0  1  1  1  1  0  0  0  1  0  1 -1  5  1  5  0  1  0  2  1\n",
      "  1  0  1  1  4  0  0  1  1  1  0 -1  0  0  1  7  1  2  0  1  0  1  1  1\n",
      "  1  1  1  1  0  4  1  1  0  1  0  1  1  3  1  0 -1  1  1  1  1 -1  1  0\n",
      "  3  3  1  1  4  7  1  0  5  6  0  1  3  1  0  0  0 -1  1  1  1  1  0  1\n",
      "  1  0  1  1  1  3  1  0  1  1  0  1  0  1  4  1  1  1  1  1  1  1  0  1\n",
      "  0  1  1  1  4  1  1  1  1  0  1  1  1  1 -1  1  1  0  0  0  1  0  1  0\n",
      "  5  1  0  0  1  3  0 -1  1  4  1  0  1  1  1 -1  1  1  1  1  1  1  1  3\n",
      "  1  1  1  0 -1  1  1  3  1 -1  1  2  3  1  0  0 -1 -1  1 -1  0  0  0  1\n",
      "  1  0  4 -1  3 -1  1  1  3  0  1  1  0  4  1  1  0  0  0  1 -1  5  4  1\n",
      "  3  1  4  1  0  1  1  1  1 -1  2  1  1  1  0 -1  1  1  1  5  1  1  1  1\n",
      " -1  1  1  4  1  1  1  1  1  1  0  5  1  1  1  0  1  1  0  1  2  1  1  3\n",
      "  0  0  1  0  2 -1  3  1  1  1 -1 -1  1  3  1  1  1  1  4  5  0  0  1  5\n",
      "  0  0  1  3  0 -1  0  1  1  1 -1  3  1  1  1  1  1  1 -1  4  1  2  1  3\n",
      "  1  0  0  1  1  1  1  4  1  0  1  1  3  3  5  4  1  1  1  1  1  1 -1  0\n",
      "  4  3  3 -1  1  1  4  1  4  1  1  1  1  1  4  1  1  1  1  1  1  7  0  1\n",
      "  3  3  1  1  1  0  1  0  1  3  4  1  1  0  0  1  1  1  1  1  0  3  1  1\n",
      "  1  1  0  1  0  0  3  0  7  1  1 -1  0  1  1  1  1  1  1  1  1 -1  1  3\n",
      "  0  0  1  0  0  0  3  0  1  1  1  1  1 -1  0  1  4  1  4  1  1 -1 -1  1\n",
      " -1  1  1  1  1  4  5  1  1  1  0  0  1  1  1  3  0  1  1  1  1  1  1  1\n",
      "  7  0  1  0  0 -1  1  0  0 -1  1  4  1  1  0  0  0 -1  1  0  3  0  4  1\n",
      "  3  1  1  1  0 -1  7  1  1  1  4  0  1  0  5  1  1  1  0  5  0  1  0  0\n",
      "  1  2  1 -1  1  1  1  1  0  1  0  1  0  1  0  3  0  1  0  3  1  3  1  1\n",
      "  3  0  0  1  1  0  3  1  1  0  1  5  1  0  4  0  0  1  4  0  1  0  3  0\n",
      "  0  1  0  4 -1  1  1  4  1  1  1  1  0  0  1  0  6  1  1  1  1  1  0 -1\n",
      "  1  1  1 -1  1  1  3  1  1  1  0  1  4  0  1  1  4  1  2  3  0  1  1  3\n",
      "  5 -1  3  0  6  1  0  1  1 -1  0  1  0  0  1  1  0  0  0  1  1  1  1  0\n",
      " -1  6  1  4  1  4  3  1  0  0  5  1  0  1  1  1  3  0  1 -1  0  6  1  3\n",
      "  1  1  2 -1  4  1  1  1  1  0  0  1  0  3  1  1  6 -1  1  1  1  4  1  1\n",
      "  1  0  1  1  0 -1  1  1  1  1  1  1  0  3  1  1  0  0  1  1  1  1  0  3\n",
      "  5  1  2  0  0  3  1  4  0  1  1 -1  1  1  1  1  0  1  4  1  1  1  1  1\n",
      "  4  1  1  3  3  1  1  3  3  4  1  4  0  0  0 -1  0  1  1  1  0  1  6  1\n",
      "  0  1  6  0  3  0  1  1 -1  1  1  0  1  0  1  0  0  0  1  1  1  1  0 -1\n",
      "  0  1  1  0  1  1 -1  1  0  1  5  0  1  3  1  1  1  0  0  1  5 -1  5  2\n",
      "  0  1  1  1  0  1  1  0  0  3  0  1  3  0 -1  1  0 -1  1  1  0  0  1  0\n",
      "  0  3  1  0  1]\n"
     ]
    }
   ],
   "source": [
    "from sklearn.cluster import DBSCAN\n",
    " \n",
    "\n",
    "dbscan = DBSCAN(eps=10, min_samples=5)\n",
    " \n",
    "dbscan.fit(data)\n",
    " \n",
    "# Готово! Распечатаем метки принадлежности к кластерам\n",
    "print(dbscan.labels_)\n"
   ]
  },
  {
   "cell_type": "code",
   "execution_count": 114,
   "metadata": {},
   "outputs": [
    {
     "data": {
      "text/plain": [
       "9"
      ]
     },
     "execution_count": 114,
     "metadata": {},
     "output_type": "execute_result"
    }
   ],
   "source": [
    "len(set(dbscan.labels_))"
   ]
  },
  {
   "cell_type": "code",
   "execution_count": 97,
   "metadata": {},
   "outputs": [],
   "source": [
    "s = set(dbscan.labels_)"
   ]
  },
  {
   "cell_type": "code",
   "execution_count": 99,
   "metadata": {},
   "outputs": [],
   "source": [
    "color = ['r', 'g', 'b', 'y', 'm', 'c', 'w', 'k']"
   ]
  },
  {
   "cell_type": "code",
   "execution_count": 103,
   "metadata": {},
   "outputs": [],
   "source": [
    "d = dict()"
   ]
  },
  {
   "cell_type": "code",
   "execution_count": 105,
   "metadata": {},
   "outputs": [],
   "source": [
    "for i in s:\n",
    "    d[i]=color[i]"
   ]
  },
  {
   "cell_type": "code",
   "execution_count": 106,
   "metadata": {},
   "outputs": [
    {
     "data": {
      "text/plain": [
       "{0: 'r', 1: 'g', 2: 'b', 3: 'y', 4: 'm', 5: 'c', 6: 'w', 7: 'k', -1: 'k'}"
      ]
     },
     "execution_count": 106,
     "metadata": {},
     "output_type": "execute_result"
    }
   ],
   "source": [
    "d"
   ]
  },
  {
   "cell_type": "code",
   "execution_count": 92,
   "metadata": {},
   "outputs": [],
   "source": [
    "from sklearn.decomposition import PCA\n",
    "pca = PCA(n_components=2).fit(data)\n",
    "pca_2d = pca.transform(data)"
   ]
  },
  {
   "cell_type": "code",
   "execution_count": 93,
   "metadata": {},
   "outputs": [
    {
     "data": {
      "text/plain": [
       "845"
      ]
     },
     "execution_count": 93,
     "metadata": {},
     "output_type": "execute_result"
    }
   ],
   "source": [
    "pca_2d.shape[0]"
   ]
  },
  {
   "cell_type": "code",
   "execution_count": 95,
   "metadata": {},
   "outputs": [
    {
     "data": {
      "text/plain": [
       "array([-126.01203819, -209.80391217])"
      ]
     },
     "execution_count": 95,
     "metadata": {},
     "output_type": "execute_result"
    }
   ],
   "source": [
    "pca_2d[1]"
   ]
  },
  {
   "cell_type": "code",
   "execution_count": 111,
   "metadata": {},
   "outputs": [
    {
     "data": {
      "image/png": "[encoded data removed]",
      "text/plain": [
       "<Figure size 432x288 with 1 Axes>"
      ]
     },
     "metadata": {
      "needs_background": "light"
     },
     "output_type": "display_data"
    }
   ],
   "source": [
    "for i in range(0, pca_2d.shape[0]):\n",
    "    plt.scatter(pca_2d[i, 0], pca_2d[i, 1], c= d[dbscan.labels_[i]])\n",
    "\n",
    "plt.show()"
   ]
  },
  {
   "cell_type": "code",
   "execution_count": 109,
   "metadata": {},
   "outputs": [
    {
     "data": {
      "image/png": "[encoded data removed]",
      "text/plain": [
       "<Figure size 432x288 with 1 Axes>"
      ]
     },
     "metadata": {
      "needs_background": "light"
     },
     "output_type": "display_data"
    }
   ],
   "source": [
    "import matplotlib.pyplot as plt\n",
    "from sklearn.decomposition import PCA\n",
    "import matplotlib.pyplot as plt\n",
    " \n",
    "pca = PCA(n_components=2).fit(iris.data)\n",
    "pca_2d = pca.transform(iris.data)\n",
    "for i in range(0, pca_2d.shape[0]):\n",
    "    if dbscan.labels_[i] == 0:\n",
    "        c1 = pl.scatter(pca_2d[i, 0], pca_2d[i, 1], c='r', marker='+')\n",
    "    elif dbscan.labels_[i] == 1:\n",
    "        c2 = pl.scatter(pca_2d[i, 0], pca_2d[i, 1], c='g', marker='o')\n",
    "    elif dbscan.labels_[i] == -1:\n",
    "        c3 = pl.scatter(pca_2d[i, 0], pca_2d[i, 1], c='b', marker='*')\n",
    " \n",
    "plt.legend([c1, c2, c3], ['Cluster 1', 'Cluster 2', 'Noise'])\n",
    "plt.title('DBSCAN finds 2 clusters and noise')\n",
    "plt.show()"
   ]
  },
  {
   "cell_type": "code",
   "execution_count": 26,
   "metadata": {},
   "outputs": [],
   "source": [
    " from sklearn.feature_extraction.text import TfidfVectorizer"
   ]
  },
  {
   "cell_type": "code",
   "execution_count": 27,
   "metadata": {},
   "outputs": [],
   "source": [
    "corpus = [     'This is the first document.',\n",
    "     'This document is the second document.',\n",
    "    'And this is the third one.',\n",
    "   'Is this the first document?',\n",
    " ]\n",
    "vectorizer = TfidfVectorizer()\n",
    "X = vectorizer.fit_transform(corpus)"
   ]
  },
  {
   "cell_type": "code",
   "execution_count": 28,
   "metadata": {},
   "outputs": [
    {
     "data": {
      "text/plain": [
       "<4x9 sparse matrix of type '<class 'numpy.float64'>'\n",
       "\twith 21 stored elements in Compressed Sparse Row format>"
      ]
     },
     "execution_count": 28,
     "metadata": {},
     "output_type": "execute_result"
    }
   ],
   "source": [
    "X"
   ]
  },
  {
   "cell_type": "code",
   "execution_count": 31,
   "metadata": {},
   "outputs": [],
   "source": [
    "from gensim.models import Word2Vec"
   ]
  },
  {
   "cell_type": "code",
   "execution_count": 32,
   "metadata": {},
   "outputs": [
    {
     "ename": "NameError",
     "evalue": "name 'decipher' is not defined",
     "output_type": "error",
     "traceback": [
      "\u001b[0;31m---------------------------------------------------------------------------\u001b[0m",
      "\u001b[0;31mNameError\u001b[0m                                 Traceback (most recent call last)",
      "\u001b[0;32m<ipython-input-32-f23a1536d010>\u001b[0m in \u001b[0;36m<module>\u001b[0;34m\u001b[0m\n\u001b[0;32m----> 1\u001b[0;31m \u001b[0mprint\u001b[0m\u001b[0;34m(\u001b[0m\u001b[0mdecipher\u001b[0m\u001b[0;34m(\u001b[0m\u001b[0msample_dictionary_corpus\u001b[0m\u001b[0;34m,\u001b[0m \u001b[0msample_corpus\u001b[0m\u001b[0;34m)\u001b[0m\u001b[0;34m)\u001b[0m\u001b[0;34m\u001b[0m\u001b[0;34m\u001b[0m\u001b[0m\n\u001b[0m",
      "\u001b[0;31mNameError\u001b[0m: name 'decipher' is not defined"
     ]
    }
   ],
   "source": [
    "print(decipher(sample_dictionary_corpus, sample_corpus))"
   ]
  },
  {
   "cell_type": "code",
   "execution_count": 34,
   "metadata": {},
   "outputs": [],
   "source": [
    "from gensim.models import Word2Vec\n",
    "sentences = [[\"cat\", \"say\", \"meow\"], [\"dog\", \"say\", \"woof\"]]\n",
    "model = Word2Vec(sentences, min_count=1)\n",
    "\n"
   ]
  },
  {
   "cell_type": "code",
   "execution_count": 37,
   "metadata": {},
   "outputs": [
    {
     "data": {
      "text/plain": [
       "<gensim.models.keyedvectors.Word2VecKeyedVectors at 0x7fa5f1477350>"
      ]
     },
     "execution_count": 37,
     "metadata": {},
     "output_type": "execute_result"
    }
   ],
   "source": [
    "model.wv"
   ]
  },
  {
   "cell_type": "code",
   "execution_count": null,
   "metadata": {},
   "outputs": [],
   "source": []
  }
 ],
 "metadata": {
  "kernelspec": {
   "display_name": "Python 3",
   "language": "python",
   "name": "python3"
  },
  "language_info": {
   "codemirror_mode": {
    "name": "ipython",
    "version": 3
   },
   "file_extension": ".py",
   "mimetype": "text/x-python",
   "name": "python",
   "nbconvert_exporter": "python",
   "pygments_lexer": "ipython3",
   "version": "3.7.4"
  }
 },
 "nbformat": 4,
 "nbformat_minor": 2
}
